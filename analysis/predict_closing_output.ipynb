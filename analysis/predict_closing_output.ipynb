{
 "cells": [
  {
   "cell_type": "code",
   "execution_count": 1,
   "metadata": {
    "collapsed": true
   },
   "outputs": [],
   "source": [
    "%matplotlib inline"
   ]
  },
  {
   "cell_type": "code",
   "execution_count": 20,
   "metadata": {},
   "outputs": [
    {
     "name": "stdout",
     "output_type": "stream",
     "text": [
      "Automatically created module for IPython interactive environment\n"
     ]
    }
   ],
   "source": [
    "print(__doc__)\n",
    "from scipy import stats\n",
    "import numpy as np\n",
    "import matplotlib.pyplot as plt\n",
    "from sklearn import svm, datasets\n",
    "from sklearn.dummy import DummyClassifier\n",
    "from mpl_toolkits.mplot3d import Axes3D\n",
    "from sklearn.decomposition import PCA\n",
    "from sklearn.svm import SVR\n",
    "import numpy as np\n",
    "import matplotlib.pyplot as plt\n",
    "from matplotlib.colors import ListedColormap\n",
    "import sklearn\n",
    "from sklearn.preprocessing import StandardScaler\n",
    "from sklearn.dummy import DummyClassifier\n",
    "import graphviz\n",
    "import pandas as pd\n",
    "import statsmodels.api as sm"
   ]
  },
  {
   "cell_type": "code",
   "execution_count": 21,
   "metadata": {
    "collapsed": true
   },
   "outputs": [],
   "source": [
    "rfc_dataset = np.genfromtxt(\"/Users/jane/rfc-analysis/analysis/new_input_features/no_closer_participation/after_closing_excluded/csv/with_ids/regression_features_expertise_before_closing.csv\", delimiter=\",\")[1:]"
   ]
  },
  {
   "cell_type": "code",
   "execution_count": 22,
   "metadata": {},
   "outputs": [
    {
     "data": {
      "text/plain": [
       "(3013, 58)"
      ]
     },
     "execution_count": 22,
     "metadata": {},
     "output_type": "execute_result"
    }
   ],
   "source": [
    "rfc_dataset.shape"
   ]
  },
  {
   "cell_type": "code",
   "execution_count": 23,
   "metadata": {
    "collapsed": true
   },
   "outputs": [],
   "source": [
    "def extract_inputs(dataset, input_idx):\n",
    "    total_inputs = []\n",
    "    for row in dataset:\n",
    "        selected_input = [row[id] for id in input_idx]\n",
    "        total_inputs.append(selected_input)\n",
    "    return total_inputs\n",
    "\n",
    "def extract_outputs(dataset, output_idx):\n",
    "    total_outputs = []\n",
    "    for row in dataset:\n",
    "        selected_output = [row[id] for id in output_idx]\n",
    "        total_outputs.append(selected_output)\n",
    "    return total_outputs"
   ]
  },
  {
   "cell_type": "markdown",
   "metadata": {},
   "source": [
    "### About features, outputs"
   ]
  },
  {
   "cell_type": "code",
   "execution_count": 24,
   "metadata": {
    "collapsed": true
   },
   "outputs": [],
   "source": [
    "features = {1:'comments_count', 2:'participants_count', 3:'sum_participant_edit_count', \n",
    "            4:'avg_participant_edit_count',5:'initiator_edit_count', 6:'initiator_expertise_(days)', \n",
    "            7:'weighted_reciprocity', 8:'avg_reply_num', 9:'avg_reply_depth', \n",
    "            10:'article_word_count', 11:'article_character_count', 12:'rfc_positive',\n",
    "            13:'rfc_negative', 14:'rfc_certain', 15:'rfc_tentative', \n",
    "            16:'rfc_anger', 17:'rfc_swear', 18:'rfc_insight', \n",
    "            19:'rfc_incl', 20:'rfc_hostile', 21:'rfc_i', \n",
    "            22:'rfc_percept', 23:'rfc_excl', 24:'rfc_cogmech',\n",
    "            25:'rfc_affect', 26:'revision_count_before_rfc', 27:'initiator_revision_before_rfc_count', \n",
    "            28:'new_participant_ratio', 29:'one_week_recent_rev_count',30:'two_weeks_recent_rev_count',\n",
    "            31:'three_weeks_recent_rev_count', 32:'one_month_recent_rev_count', 33:'two_months_recent_rev_count',\n",
    "            34:'avg_expertise_except_closer_(days)', 35:'max_expertise_except_closer_(days)',\n",
    "            36:'sd_expertise_except_closer_(days)', 37:'sum_expertise_except_closer_(days)',\n",
    "            38:'closer_expertise_(days)',\n",
    "           }"
   ]
  },
  {
   "cell_type": "code",
   "execution_count": 25,
   "metadata": {
    "collapsed": true
   },
   "outputs": [],
   "source": [
    "outputs = {39:'closing_word_count', 40:'closing_character_count',\n",
    "           41:'closing_positive', 42:'closing_negative', 43:'closing_certain',\n",
    "           44:'closing_tentative', 45:'closing_anger', 46:'closing_swear',\n",
    "           47:'closing_insight', 48:'closing_incl', 49:'closing_hostile',\n",
    "           50:'closing_i', 51:'closing_percept', 52:'closing_excl',\n",
    "           53:'closing_cogmech', 54:'closing_affect',\n",
    "           55:'closing_period_(days)', 56:'running_period_(days)', 57:'whole_period_(days)'}"
   ]
  },
  {
   "cell_type": "code",
   "execution_count": 26,
   "metadata": {
    "collapsed": true
   },
   "outputs": [],
   "source": [
    "FEATURE_NUM = len(features) + 1\n",
    "ROW_NUM = 3013"
   ]
  },
  {
   "cell_type": "code",
   "execution_count": 27,
   "metadata": {
    "collapsed": true
   },
   "outputs": [],
   "source": [
    "total_inputs = extract_inputs(rfc_dataset, range(1,FEATURE_NUM))"
   ]
  },
  {
   "cell_type": "code",
   "execution_count": 40,
   "metadata": {
    "collapsed": true
   },
   "outputs": [],
   "source": [
    "total_outputs = extract_outputs(rfc_dataset, [39])"
   ]
  },
  {
   "cell_type": "code",
   "execution_count": 41,
   "metadata": {
    "collapsed": true
   },
   "outputs": [],
   "source": [
    "X = StandardScaler().fit_transform(total_inputs)\n",
    "Y = np.array(total_outputs).reshape(ROW_NUM, 1)"
   ]
  },
  {
   "cell_type": "code",
   "execution_count": 42,
   "metadata": {
    "collapsed": true
   },
   "outputs": [],
   "source": [
    "# X_train, X_test, y_train, y_test = sklearn.cross_validation.train_test_split(X, Y, test_size=0.4, random_state=42)\n",
    "X_train, X_test, y_train, y_test = sklearn.model_selection.train_test_split(X, Y, test_size=0.4)"
   ]
  },
  {
   "cell_type": "markdown",
   "metadata": {},
   "source": [
    "###  Summary of linear regression model"
   ]
  },
  {
   "cell_type": "code",
   "execution_count": 57,
   "metadata": {
    "scrolled": false
   },
   "outputs": [
    {
     "data": {
      "text/html": [
       "<table class=\"simpletable\">\n",
       "<caption>closing_word_count</caption>\n",
       "<tr>\n",
       "  <th>Dep. Variable:</th>            <td>y</td>        <th>  R-squared:         </th> <td>   0.061</td> \n",
       "</tr>\n",
       "<tr>\n",
       "  <th>Model:</th>                   <td>OLS</td>       <th>  Adj. R-squared:    </th> <td>   0.049</td> \n",
       "</tr>\n",
       "<tr>\n",
       "  <th>Method:</th>             <td>Least Squares</td>  <th>  F-statistic:       </th> <td>   5.127</td> \n",
       "</tr>\n",
       "<tr>\n",
       "  <th>Date:</th>             <td>Fri, 02 Feb 2018</td> <th>  Prob (F-statistic):</th> <td>4.48e-22</td> \n",
       "</tr>\n",
       "<tr>\n",
       "  <th>Time:</th>                 <td>10:58:30</td>     <th>  Log-Likelihood:    </th> <td> -20090.</td> \n",
       "</tr>\n",
       "<tr>\n",
       "  <th>No. Observations:</th>      <td>  3013</td>      <th>  AIC:               </th> <td>4.026e+04</td>\n",
       "</tr>\n",
       "<tr>\n",
       "  <th>Df Residuals:</th>          <td>  2975</td>      <th>  BIC:               </th> <td>4.048e+04</td>\n",
       "</tr>\n",
       "<tr>\n",
       "  <th>Df Model:</th>              <td>    38</td>      <th>                     </th>     <td> </td>    \n",
       "</tr>\n",
       "<tr>\n",
       "  <th>Covariance Type:</th>      <td>nonrobust</td>    <th>                     </th>     <td> </td>    \n",
       "</tr>\n",
       "</table>\n",
       "<table class=\"simpletable\">\n",
       "<tr>\n",
       "                   <td></td>                      <th>coef</th>     <th>std err</th>      <th>t</th>      <th>P>|t|</th>  <th>[0.025</th>    <th>0.975]</th>  \n",
       "</tr>\n",
       "<tr>\n",
       "  <th>comments_count</th>                      <td>  -26.6441</td> <td>   13.897</td> <td>   -1.917</td> <td> 0.055</td> <td>  -53.893</td> <td>    0.605</td>\n",
       "</tr>\n",
       "<tr>\n",
       "  <th>participants_count</th>                  <td>   15.4946</td> <td>   18.621</td> <td>    0.832</td> <td> 0.405</td> <td>  -21.017</td> <td>   52.006</td>\n",
       "</tr>\n",
       "<tr>\n",
       "  <th>sum_participant_edit_count</th>          <td>   32.3626</td> <td>   10.443</td> <td>    3.099</td> <td> 0.002</td> <td>   11.885</td> <td>   52.840</td>\n",
       "</tr>\n",
       "<tr>\n",
       "  <th>avg_participant_edit_count</th>          <td>  -14.6604</td> <td>    5.604</td> <td>   -2.616</td> <td> 0.009</td> <td>  -25.649</td> <td>   -3.672</td>\n",
       "</tr>\n",
       "<tr>\n",
       "  <th>initiator_edit_count</th>                <td>   -1.9335</td> <td>    4.117</td> <td>   -0.470</td> <td> 0.639</td> <td>  -10.007</td> <td>    6.140</td>\n",
       "</tr>\n",
       "<tr>\n",
       "  <th>initiator_expertise_(days)</th>          <td>    4.9555</td> <td>    4.081</td> <td>    1.214</td> <td> 0.225</td> <td>   -3.047</td> <td>   12.958</td>\n",
       "</tr>\n",
       "<tr>\n",
       "  <th>weighted_reciprocity</th>                <td>   -1.5591</td> <td>    4.805</td> <td>   -0.324</td> <td> 0.746</td> <td>  -10.981</td> <td>    7.862</td>\n",
       "</tr>\n",
       "<tr>\n",
       "  <th>avg_reply_num</th>                       <td>    1.4760</td> <td>    8.997</td> <td>    0.164</td> <td> 0.870</td> <td>  -16.164</td> <td>   19.116</td>\n",
       "</tr>\n",
       "<tr>\n",
       "  <th>avg_reply_depth</th>                     <td>    3.8342</td> <td>    9.038</td> <td>    0.424</td> <td> 0.671</td> <td>  -13.888</td> <td>   21.556</td>\n",
       "</tr>\n",
       "<tr>\n",
       "  <th>article_word_count</th>                  <td>   94.2462</td> <td>  112.627</td> <td>    0.837</td> <td> 0.403</td> <td> -126.588</td> <td>  315.081</td>\n",
       "</tr>\n",
       "<tr>\n",
       "  <th>article_character_count</th>             <td>  -37.9837</td> <td>  107.796</td> <td>   -0.352</td> <td> 0.725</td> <td> -249.346</td> <td>  173.379</td>\n",
       "</tr>\n",
       "<tr>\n",
       "  <th>rfc_positive</th>                        <td>   -8.9307</td> <td>   13.912</td> <td>   -0.642</td> <td> 0.521</td> <td>  -36.210</td> <td>   18.348</td>\n",
       "</tr>\n",
       "<tr>\n",
       "  <th>rfc_negative</th>                        <td>    1.0080</td> <td>    9.212</td> <td>    0.109</td> <td> 0.913</td> <td>  -17.054</td> <td>   19.070</td>\n",
       "</tr>\n",
       "<tr>\n",
       "  <th>rfc_certain</th>                         <td>    4.8805</td> <td>    3.992</td> <td>    1.222</td> <td> 0.222</td> <td>   -2.948</td> <td>   12.709</td>\n",
       "</tr>\n",
       "<tr>\n",
       "  <th>rfc_tentative</th>                       <td>   -0.8920</td> <td>    4.123</td> <td>   -0.216</td> <td> 0.829</td> <td>   -8.977</td> <td>    7.193</td>\n",
       "</tr>\n",
       "<tr>\n",
       "  <th>rfc_anger</th>                           <td>   -5.1217</td> <td>    5.165</td> <td>   -0.992</td> <td> 0.321</td> <td>  -15.250</td> <td>    5.006</td>\n",
       "</tr>\n",
       "<tr>\n",
       "  <th>rfc_swear</th>                           <td>    3.6224</td> <td>    3.596</td> <td>    1.007</td> <td> 0.314</td> <td>   -3.429</td> <td>   10.674</td>\n",
       "</tr>\n",
       "<tr>\n",
       "  <th>rfc_insight</th>                         <td>    0.2816</td> <td>    4.126</td> <td>    0.068</td> <td> 0.946</td> <td>   -7.809</td> <td>    8.372</td>\n",
       "</tr>\n",
       "<tr>\n",
       "  <th>rfc_incl</th>                            <td>   -1.4117</td> <td>    4.222</td> <td>   -0.334</td> <td> 0.738</td> <td>   -9.691</td> <td>    6.867</td>\n",
       "</tr>\n",
       "<tr>\n",
       "  <th>rfc_hostile</th>                         <td>   -3.2573</td> <td>    4.053</td> <td>   -0.804</td> <td> 0.422</td> <td>  -11.205</td> <td>    4.691</td>\n",
       "</tr>\n",
       "<tr>\n",
       "  <th>rfc_i</th>                               <td>    4.2609</td> <td>    3.772</td> <td>    1.130</td> <td> 0.259</td> <td>   -3.135</td> <td>   11.657</td>\n",
       "</tr>\n",
       "<tr>\n",
       "  <th>rfc_percept</th>                         <td>   -2.1255</td> <td>    3.589</td> <td>   -0.592</td> <td> 0.554</td> <td>   -9.163</td> <td>    4.912</td>\n",
       "</tr>\n",
       "<tr>\n",
       "  <th>rfc_excl</th>                            <td>    0.6586</td> <td>    4.048</td> <td>    0.163</td> <td> 0.871</td> <td>   -7.278</td> <td>    8.595</td>\n",
       "</tr>\n",
       "<tr>\n",
       "  <th>rfc_cogmech</th>                         <td>    3.1299</td> <td>    5.694</td> <td>    0.550</td> <td> 0.583</td> <td>   -8.035</td> <td>   14.294</td>\n",
       "</tr>\n",
       "<tr>\n",
       "  <th>rfc_affect</th>                          <td>   10.0145</td> <td>   16.146</td> <td>    0.620</td> <td> 0.535</td> <td>  -21.644</td> <td>   41.673</td>\n",
       "</tr>\n",
       "<tr>\n",
       "  <th>revision_count_before_rfc</th>           <td>  -13.5538</td> <td>    4.837</td> <td>   -2.802</td> <td> 0.005</td> <td>  -23.037</td> <td>   -4.070</td>\n",
       "</tr>\n",
       "<tr>\n",
       "  <th>initiator_revision_before_rfc_count</th> <td>   -6.3044</td> <td>    3.834</td> <td>   -1.644</td> <td> 0.100</td> <td>  -13.822</td> <td>    1.213</td>\n",
       "</tr>\n",
       "<tr>\n",
       "  <th>new_participant_ratio</th>               <td>   -6.6569</td> <td>    4.167</td> <td>   -1.598</td> <td> 0.110</td> <td>  -14.827</td> <td>    1.513</td>\n",
       "</tr>\n",
       "<tr>\n",
       "  <th>one_week_recent_rev_count</th>           <td>    1.5544</td> <td>    8.244</td> <td>    0.189</td> <td> 0.850</td> <td>  -14.609</td> <td>   17.718</td>\n",
       "</tr>\n",
       "<tr>\n",
       "  <th>two_weeks_recent_rev_count</th>          <td>   -9.7824</td> <td>   19.032</td> <td>   -0.514</td> <td> 0.607</td> <td>  -47.100</td> <td>   27.535</td>\n",
       "</tr>\n",
       "<tr>\n",
       "  <th>three_weeks_recent_rev_count</th>        <td>    1.8352</td> <td>   26.190</td> <td>    0.070</td> <td> 0.944</td> <td>  -49.517</td> <td>   53.188</td>\n",
       "</tr>\n",
       "<tr>\n",
       "  <th>one_month_recent_rev_count</th>          <td>    5.2888</td> <td>   22.803</td> <td>    0.232</td> <td> 0.817</td> <td>  -39.422</td> <td>   50.000</td>\n",
       "</tr>\n",
       "<tr>\n",
       "  <th>two_months_recent_rev_count</th>         <td>   11.5216</td> <td>   11.517</td> <td>    1.000</td> <td> 0.317</td> <td>  -11.061</td> <td>   34.105</td>\n",
       "</tr>\n",
       "<tr>\n",
       "  <th>avg_expertise_except_closer_(days)</th>  <td>    1.3244</td> <td>    7.745</td> <td>    0.171</td> <td> 0.864</td> <td>  -13.862</td> <td>   16.511</td>\n",
       "</tr>\n",
       "<tr>\n",
       "  <th>max_expertise_except_closer_(days)</th>  <td>    1.2573</td> <td>    9.208</td> <td>    0.137</td> <td> 0.891</td> <td>  -16.797</td> <td>   19.312</td>\n",
       "</tr>\n",
       "<tr>\n",
       "  <th>sd_expertise_except_closer_(days)</th>   <td>    2.2425</td> <td>    6.098</td> <td>    0.368</td> <td> 0.713</td> <td>   -9.715</td> <td>   14.200</td>\n",
       "</tr>\n",
       "<tr>\n",
       "  <th>sum_expertise_except_closer_(days)</th>  <td>  -32.3389</td> <td>   19.429</td> <td>   -1.664</td> <td> 0.096</td> <td>  -70.434</td> <td>    5.756</td>\n",
       "</tr>\n",
       "<tr>\n",
       "  <th>closer_expertise_(days)</th>             <td>   -0.1137</td> <td>    3.646</td> <td>   -0.031</td> <td> 0.975</td> <td>   -7.262</td> <td>    7.034</td>\n",
       "</tr>\n",
       "</table>\n",
       "<table class=\"simpletable\">\n",
       "<tr>\n",
       "  <th>Omnibus:</th>       <td>7239.940</td> <th>  Durbin-Watson:     </th>   <td>   1.615</td>  \n",
       "</tr>\n",
       "<tr>\n",
       "  <th>Prob(Omnibus):</th>  <td> 0.000</td>  <th>  Jarque-Bera (JB):  </th> <td>96015983.119</td>\n",
       "</tr>\n",
       "<tr>\n",
       "  <th>Skew:</th>           <td>24.085</td>  <th>  Prob(JB):          </th>   <td>    0.00</td>  \n",
       "</tr>\n",
       "<tr>\n",
       "  <th>Kurtosis:</th>       <td>876.209</td> <th>  Cond. No.          </th>   <td>    112.</td>  \n",
       "</tr>\n",
       "</table>"
      ],
      "text/plain": [
       "<class 'statsmodels.iolib.summary.Summary'>\n",
       "\"\"\"\n",
       "                              closing_word_count                              \n",
       "==============================================================================\n",
       "Dep. Variable:                      y   R-squared:                       0.061\n",
       "Model:                            OLS   Adj. R-squared:                  0.049\n",
       "Method:                 Least Squares   F-statistic:                     5.127\n",
       "Date:                Fri, 02 Feb 2018   Prob (F-statistic):           4.48e-22\n",
       "Time:                        10:58:30   Log-Likelihood:                -20090.\n",
       "No. Observations:                3013   AIC:                         4.026e+04\n",
       "Df Residuals:                    2975   BIC:                         4.048e+04\n",
       "Df Model:                          38                                         \n",
       "Covariance Type:            nonrobust                                         \n",
       "=======================================================================================================\n",
       "                                          coef    std err          t      P>|t|      [0.025      0.975]\n",
       "-------------------------------------------------------------------------------------------------------\n",
       "comments_count                        -26.6441     13.897     -1.917      0.055     -53.893       0.605\n",
       "participants_count                     15.4946     18.621      0.832      0.405     -21.017      52.006\n",
       "sum_participant_edit_count             32.3626     10.443      3.099      0.002      11.885      52.840\n",
       "avg_participant_edit_count            -14.6604      5.604     -2.616      0.009     -25.649      -3.672\n",
       "initiator_edit_count                   -1.9335      4.117     -0.470      0.639     -10.007       6.140\n",
       "initiator_expertise_(days)              4.9555      4.081      1.214      0.225      -3.047      12.958\n",
       "weighted_reciprocity                   -1.5591      4.805     -0.324      0.746     -10.981       7.862\n",
       "avg_reply_num                           1.4760      8.997      0.164      0.870     -16.164      19.116\n",
       "avg_reply_depth                         3.8342      9.038      0.424      0.671     -13.888      21.556\n",
       "article_word_count                     94.2462    112.627      0.837      0.403    -126.588     315.081\n",
       "article_character_count               -37.9837    107.796     -0.352      0.725    -249.346     173.379\n",
       "rfc_positive                           -8.9307     13.912     -0.642      0.521     -36.210      18.348\n",
       "rfc_negative                            1.0080      9.212      0.109      0.913     -17.054      19.070\n",
       "rfc_certain                             4.8805      3.992      1.222      0.222      -2.948      12.709\n",
       "rfc_tentative                          -0.8920      4.123     -0.216      0.829      -8.977       7.193\n",
       "rfc_anger                              -5.1217      5.165     -0.992      0.321     -15.250       5.006\n",
       "rfc_swear                               3.6224      3.596      1.007      0.314      -3.429      10.674\n",
       "rfc_insight                             0.2816      4.126      0.068      0.946      -7.809       8.372\n",
       "rfc_incl                               -1.4117      4.222     -0.334      0.738      -9.691       6.867\n",
       "rfc_hostile                            -3.2573      4.053     -0.804      0.422     -11.205       4.691\n",
       "rfc_i                                   4.2609      3.772      1.130      0.259      -3.135      11.657\n",
       "rfc_percept                            -2.1255      3.589     -0.592      0.554      -9.163       4.912\n",
       "rfc_excl                                0.6586      4.048      0.163      0.871      -7.278       8.595\n",
       "rfc_cogmech                             3.1299      5.694      0.550      0.583      -8.035      14.294\n",
       "rfc_affect                             10.0145     16.146      0.620      0.535     -21.644      41.673\n",
       "revision_count_before_rfc             -13.5538      4.837     -2.802      0.005     -23.037      -4.070\n",
       "initiator_revision_before_rfc_count    -6.3044      3.834     -1.644      0.100     -13.822       1.213\n",
       "new_participant_ratio                  -6.6569      4.167     -1.598      0.110     -14.827       1.513\n",
       "one_week_recent_rev_count               1.5544      8.244      0.189      0.850     -14.609      17.718\n",
       "two_weeks_recent_rev_count             -9.7824     19.032     -0.514      0.607     -47.100      27.535\n",
       "three_weeks_recent_rev_count            1.8352     26.190      0.070      0.944     -49.517      53.188\n",
       "one_month_recent_rev_count              5.2888     22.803      0.232      0.817     -39.422      50.000\n",
       "two_months_recent_rev_count            11.5216     11.517      1.000      0.317     -11.061      34.105\n",
       "avg_expertise_except_closer_(days)      1.3244      7.745      0.171      0.864     -13.862      16.511\n",
       "max_expertise_except_closer_(days)      1.2573      9.208      0.137      0.891     -16.797      19.312\n",
       "sd_expertise_except_closer_(days)       2.2425      6.098      0.368      0.713      -9.715      14.200\n",
       "sum_expertise_except_closer_(days)    -32.3389     19.429     -1.664      0.096     -70.434       5.756\n",
       "closer_expertise_(days)                -0.1137      3.646     -0.031      0.975      -7.262       7.034\n",
       "==============================================================================\n",
       "Omnibus:                     7239.940   Durbin-Watson:                   1.615\n",
       "Prob(Omnibus):                  0.000   Jarque-Bera (JB):         96015983.119\n",
       "Skew:                          24.085   Prob(JB):                         0.00\n",
       "Kurtosis:                     876.209   Cond. No.                         112.\n",
       "==============================================================================\n",
       "\n",
       "Warnings:\n",
       "[1] Standard Errors assume that the covariance matrix of the errors is correctly specified.\n",
       "\"\"\""
      ]
     },
     "execution_count": 57,
     "metadata": {},
     "output_type": "execute_result"
    }
   ],
   "source": [
    "model = sm.OLS(Y, X).fit()\n",
    "predictions = model.predict(X)\n",
    "model.summary(xname=features.values(), title='closing_word_count')"
   ]
  },
  {
   "cell_type": "markdown",
   "metadata": {},
   "source": [
    "### Regression"
   ]
  },
  {
   "cell_type": "code",
   "execution_count": 49,
   "metadata": {},
   "outputs": [],
   "source": [
    "svr_rbf = SVR(kernel='rbf')\n",
    "svr_lin = SVR(kernel='linear')\n",
    "svr_poly = SVR(kernel='poly')\n",
    "y_rbf = svr_rbf.fit(X_train, y_train).predict(X_test)\n",
    "y_lin = svr_lin.fit(X_train, y_train).predict(X_test)\n",
    "y_poly = svr_poly.fit(X_train, y_train).predict(X_test)"
   ]
  },
  {
   "cell_type": "markdown",
   "metadata": {},
   "source": [
    "### Coefficients"
   ]
  },
  {
   "cell_type": "code",
   "execution_count": 50,
   "metadata": {},
   "outputs": [
    {
     "data": {
      "text/plain": [
       "array([[ 10.15924493,  -0.47695936,   2.05706381,  -3.12614433,\n",
       "          2.68893367,  -1.94982548,  -0.19789356,   2.01327757,\n",
       "          1.32315972,   7.83580019,   7.34284039,   1.71652722,\n",
       "          2.0619354 ,  -0.95304914,   0.71550042,  -1.92162896,\n",
       "          0.64195204,   1.3705312 ,  -0.07311168,   1.89098524,\n",
       "         -0.19953135,  -0.24603515,   0.91960177,  -0.42929344,\n",
       "         -1.57771801,  -2.17052959,   3.68941913,   1.33357821,\n",
       "         -1.08565467,  -1.76164291,  -0.61457164,   5.27553909,\n",
       "         -2.29024845,  -0.76288489,  -0.05057643,   1.06089176,\n",
       "          6.51823999,   0.1249361 ]])"
      ]
     },
     "execution_count": 50,
     "metadata": {},
     "output_type": "execute_result"
    }
   ],
   "source": [
    "svr_lin.fit(X_train, y_train).coef_"
   ]
  },
  {
   "cell_type": "code",
   "execution_count": 51,
   "metadata": {},
   "outputs": [
    {
     "data": {
      "text/plain": [
       "array([ 53.98294428])"
      ]
     },
     "execution_count": 51,
     "metadata": {},
     "output_type": "execute_result"
    }
   ],
   "source": [
    "svr_lin.fit(X_train, y_train).intercept_"
   ]
  },
  {
   "cell_type": "markdown",
   "metadata": {},
   "source": [
    "### R^2 score"
   ]
  },
  {
   "cell_type": "code",
   "execution_count": 52,
   "metadata": {},
   "outputs": [
    {
     "name": "stdout",
     "output_type": "stream",
     "text": [
      "-0.0343198847295\n",
      "0.0145280247543\n",
      "-0.051164629835\n"
     ]
    }
   ],
   "source": [
    "from sklearn.metrics import r2_score\n",
    "print r2_score(y_test, y_rbf)\n",
    "print r2_score(y_test, y_lin)\n",
    "print r2_score(y_test, y_poly)"
   ]
  },
  {
   "cell_type": "markdown",
   "metadata": {},
   "source": [
    "### mean absolute error"
   ]
  },
  {
   "cell_type": "code",
   "execution_count": 53,
   "metadata": {},
   "outputs": [
    {
     "name": "stdout",
     "output_type": "stream",
     "text": [
      "54.5767313651\n",
      "53.7686154354\n",
      "56.2722047058\n"
     ]
    }
   ],
   "source": [
    "from sklearn.metrics import mean_absolute_error\n",
    "print mean_absolute_error(y_test, y_rbf)\n",
    "print mean_absolute_error(y_test, y_lin)\n",
    "print mean_absolute_error(y_test, y_poly)"
   ]
  },
  {
   "cell_type": "markdown",
   "metadata": {},
   "source": [
    "### mean squared error"
   ]
  },
  {
   "cell_type": "code",
   "execution_count": 54,
   "metadata": {},
   "outputs": [
    {
     "name": "stdout",
     "output_type": "stream",
     "text": [
      "22818.5318549\n",
      "21740.8791915\n",
      "23190.1503053\n"
     ]
    }
   ],
   "source": [
    "from sklearn.metrics import mean_squared_error\n",
    "print mean_squared_error(y_test, y_rbf)\n",
    "print mean_squared_error(y_test, y_lin)\n",
    "print mean_squared_error(y_test, y_poly)"
   ]
  },
  {
   "cell_type": "markdown",
   "metadata": {},
   "source": [
    "### explained variance score"
   ]
  },
  {
   "cell_type": "code",
   "execution_count": 55,
   "metadata": {},
   "outputs": [
    {
     "name": "stdout",
     "output_type": "stream",
     "text": [
      "0.0222611684062\n",
      "0.0555149102895\n",
      "0.00266726315451\n"
     ]
    }
   ],
   "source": [
    "from sklearn.metrics import explained_variance_score\n",
    "print explained_variance_score(y_test, y_rbf)\n",
    "print explained_variance_score(y_test, y_lin)\n",
    "print explained_variance_score(y_test, y_poly)"
   ]
  },
  {
   "cell_type": "markdown",
   "metadata": {},
   "source": [
    "### median absolute error"
   ]
  },
  {
   "cell_type": "code",
   "execution_count": 56,
   "metadata": {},
   "outputs": [
    {
     "name": "stdout",
     "output_type": "stream",
     "text": [
      "23.7382929762\n",
      "24.1762839206\n",
      "24.2180505183\n"
     ]
    }
   ],
   "source": [
    "from sklearn.metrics import median_absolute_error\n",
    "print median_absolute_error(y_test, y_rbf)\n",
    "print median_absolute_error(y_test, y_lin)\n",
    "print median_absolute_error(y_test, y_poly)"
   ]
  }
 ],
 "metadata": {
  "anaconda-cloud": {},
  "kernelspec": {
   "display_name": "Python 2",
   "language": "python",
   "name": "python2"
  },
  "language_info": {
   "codemirror_mode": {
    "name": "ipython",
    "version": 2
   },
   "file_extension": ".py",
   "mimetype": "text/x-python",
   "name": "python",
   "nbconvert_exporter": "python",
   "pygments_lexer": "ipython2",
   "version": "2.7.13"
  }
 },
 "nbformat": 4,
 "nbformat_minor": 1
}

{
 "cells": [
  {
   "cell_type": "code",
   "execution_count": 140,
   "metadata": {
    "collapsed": true
   },
   "outputs": [],
   "source": [
    "from bs4 import BeautifulSoup\n",
    "import json\n",
    "import re\n",
    "import urllib2\n",
    "import datetime\n",
    "from os import walk"
   ]
  },
  {
   "cell_type": "code",
   "execution_count": 155,
   "metadata": {},
   "outputs": [],
   "source": [
    "# get the file names\n",
    "_folder_dir = \"/Users/jane/rfc-analysis/title_added/\"\n",
    "title_added_files = []\n",
    "for (dirpath, dirnames, filenames) in walk(_diff_folder_dir):\n",
    "    title_added_files.extend(filenames)"
   ]
  },
  {
   "cell_type": "code",
   "execution_count": 156,
   "metadata": {
    "collapsed": true
   },
   "outputs": [],
   "source": [
    "rfc_found = {}\n",
    "rfc_unfound = []"
   ]
  },
  {
   "cell_type": "code",
   "execution_count": 157,
   "metadata": {
    "collapsed": true
   },
   "outputs": [],
   "source": [
    "def find_rfc_url(rfc_info):\n",
    "    rfc_title = rfc_info[\"title\"]\n",
    "    rfc_page = rfc_info[\"page\"]\n",
    "    rfc_rev_id = rfc_info['id']\n",
    "    \n",
    "    rfc_page_title = titles[str(rfc_page)]\n",
    "    \n",
    "    rfc_url = find_rfc_url_from_archive(rfc_title, rfc_page_title)\n",
    "    \n",
    "    if rfc_url is None:\n",
    "        rfc_unfound.append(rfc_rev_id)\n",
    "    else:\n",
    "        rfc_found[rfc_rev_id] = rfc_url"
   ]
  },
  {
   "cell_type": "code",
   "execution_count": null,
   "metadata": {},
   "outputs": [
    {
     "name": "stdout",
     "output_type": "stream",
     "text": [
      "already found\n",
      "already found\n",
      "already found\n",
      "already found\n",
      "already found\n",
      "already found\n",
      "already found\n",
      "already found\n",
      "already found\n",
      "already found\n",
      "already found\n",
      "already found\n",
      "already found\n",
      "already found\n",
      "already found\n",
      "already found\n",
      "already found\n",
      "already found\n",
      "already found\n",
      "already found\n",
      "archive search url: https://en.wikipedia.org/wiki/Special:Search?search=&prefix=Talk:Stepanakert_Airport/Archive01&fulltext=Search+archives\n",
      "[]\n",
      "archive search url: https://en.wikipedia.org/wiki/Special:Search?search=&prefix=Talk:Susan_B._Anthony_abortion_dispute&fulltext=Search+archives\n",
      "[]\n",
      "archive search url: https://en.wikipedia.org/wiki/Special:Search?search=Tsardom_of_Russia???&prefix=Talk:Tsardom_of_Russia&fulltext=Search+archives\n",
      "already found\n",
      "already found\n",
      "already found\n",
      "archive search url: https://en.wikipedia.org/wiki/Special:Search?search=Inclusion_of_Sterilization_(surgical_procedure)_and_Essure_under_''See_also''&prefix=Talk:Voluntary_Human_Extinction_Movement&fulltext=Search+archives\n",
      "['/wiki/Talk:Voluntary_Human_Extinction_Movement/Archive_2#Inclusion_of_Sterilization_(surgical_procedure)_and_Essure_under_See_also']\n",
      "already found\n",
      "already found\n",
      "already found\n",
      "already found\n",
      "already found\n",
      "already found\n",
      "already found\n",
      "already found\n",
      "already found\n",
      "archive search url: https://en.wikipedia.org/wiki/Special:Search?search=RFC:_Content_dispute_for_[[National_Broadband_Network]]&prefix=Talk:National_Broadband_Network&fulltext=Search+archives\n",
      "['/wiki/Talk:National_Broadband_Network/Archive_1#RFC:_Content_dispute_for_National_Broadband_Network']\n",
      "archive search url: https://en.wikipedia.org/wiki/Special:Search?search=RfC:_the_self-published_novel_''Daddy,_an_Absolutely_Authentic_Fake_Memoir''&prefix=Talk:Fake_memoirs&fulltext=Search+archives\n",
      "[]\n",
      "already found\n",
      "archive search url: https://en.wikipedia.org/wiki/Special:Search?search=RfC:_Holocaust_deniers_category&prefix=Talk:Rousas_Rushdoony&fulltext=Search+archives\n",
      "[]\n",
      "already found\n",
      "already found\n",
      "archive search url: https://en.wikipedia.org/wiki/Special:Search?search=RFC:_Working_draft_for_[[National_Broadband_Network]]&prefix=Talk:National_Broadband_Network&fulltext=Search+archives\n",
      "['/wiki/Talk:National_Broadband_Network/Archive_1#RFC:_Working_draft_for_National_Broadband_Network']\n",
      "already found\n",
      "already found\n",
      "already found\n",
      "already found\n",
      "already found\n",
      "already found\n",
      "already found\n",
      "already found\n",
      "already found\n",
      "already found\n",
      "already found\n",
      "already found\n",
      "already found\n",
      "already found\n",
      "already found\n",
      "already found\n",
      "already found\n",
      "already found\n",
      "already found\n",
      "already found\n",
      "already found\n",
      "already found\n",
      "already found\n",
      "already found\n",
      "archive search url: https://en.wikipedia.org/wiki/Special:Search?search=RfC_on_merge/redirect_to_[[supermajority]]&prefix=Talk:Absolute_majority&fulltext=Search+archives\n",
      "['/wiki/Talk:Absolute_majority#RfC_on_merge/redirect_to_supermajority']\n",
      "already found\n",
      "already found\n",
      "already found\n",
      "already found\n",
      "already found\n",
      "already found\n",
      "archive search url: https://en.wikipedia.org/wiki/Special:Search?search=RfC&prefix=Template_talk:Birth_date_and_age&fulltext=Search+archives\n",
      "archive search url: https://en.wikipedia.org/wiki/Special:Search?search=RfC_on_adding_future_fights_to_fight_record_table&prefix=Wikipedia_talk:WikiProject_Mixed_martial_arts&fulltext=Search+archives\n",
      "['/wiki/Wikipedia_talk:WikiProject_Mixed_martial_arts/Archive_7#RfC_on_adding_future_fights_to_fight_record_table']\n",
      "found\n",
      "archive search url: https://en.wikipedia.org/wiki/Special:Search?search=RFC:Colours_in_templates&prefix=Wikipedia_talk:Manual_of_Style/Text_formatting&fulltext=Search+archives\n",
      "[]\n",
      "archive search url: https://en.wikipedia.org/wiki/Special:Search?search=Requested_move:_Côte_d'Ivoire_--&gt;_Ivory_Coast&prefix=Talk:Ivory_Coast&fulltext=Search+archives\n",
      "archive search url: https://en.wikipedia.org/wiki/Special:Search?search=Consensus_for_\"Burlew_posts_new_comics_roughly_once_a_week\"&prefix=Talk:The_Order_of_the_Stick&fulltext=Search+archives\n",
      "['/wiki/Talk:The_Order_of_the_Stick/Archive_1#Consensus_for_\"Burlew_posts_new_comics_roughly_once_a_week\"']\n",
      "found\n",
      "archive search url: https://en.wikipedia.org/wiki/Special:Search?search=RFC_for_discussion_on_criticism_in_the_lead_section&prefix=Talk:Comcast&fulltext=Search+archives\n",
      "['/wiki/Talk:Comcast/Archive_2#RFC_for_discussion_on_criticism_in_the_lead_section']\n",
      "found\n",
      "archive search url: https://en.wikipedia.org/wiki/Special:Search?search=RfC:_Length_of_the_\"Alleged_violence_and_harassment\"_section&prefix=Talk:LaRouche_movement&fulltext=Search+archives\n",
      "['/wiki/Talk:LaRouche_movement/Archive_3#RfC:_Length_of_the_\"Alleged_violence_and_harassment\"_section', '/wiki/Talk:LaRouche_movement/Archive_5#Straw_poll_on_section_headings']\n",
      "found\n",
      "archive search url: https://en.wikipedia.org/wiki/Special:Search?search=Stan_Meyer's_Water_Fuel_Cell&prefix=Water_Fuel_Cell&fulltext=Search+archives\n",
      "[]\n",
      "archive search url: https://en.wikipedia.org/wiki/Special:Search?search=Category_overlap:_Drama_v._Theatre&prefix=Wikipedia_talk:WikiProject_Theatre&fulltext=Search+archives\n",
      "['/wiki/Wikipedia_talk:WikiProject_Theatre/Archive_5#Category_overlap:_Drama_v._Theatre']\n",
      "found\n",
      "archive search url: https://en.wikipedia.org/wiki/Special:Search?search=Comment_section_for_other_users&prefix=Talk:Certification_listing&fulltext=Search+archives\n",
      "['/wiki/Talk:Certification_listing#Comment_section_for_other_users']\n",
      "found\n",
      "archive search url: https://en.wikipedia.org/wiki/Special:Search?search=RfC&prefix=Talk:Greco-Turkish_War_(1919-1922)&fulltext=Search+archives\n",
      "[]\n",
      "archive search url: https://en.wikipedia.org/wiki/Special:Search?search=RfC:_Multiple_move_requests&prefix=Talk:Martin_Růžička&fulltext=Search+archives\n",
      "['/wiki/Talk:Martin_R%C5%AF%C5%BEi%C4%8Dka#RfC:_Multiple_move_requests']\n",
      "found\n",
      "archive search url: https://en.wikipedia.org/wiki/Special:Search?search=RfC:_Should_UPOL_be_changed_to_allow_the_usage_of_''Wikipedia''_in_usernames_in_some_cases?&prefix=Wikipedia_talk:Username_policy&fulltext=Search+archives\n",
      "archive search url: https://en.wikipedia.org/wiki/Special:Search?search=RfC:_Spencer_Weart_and_'the_dedicated_minority_who_denied_global_warming_was_a_problem_prompty_attacked_the_calculations'&prefix=Talk:Hockey_stick_controversy&fulltext=Search+archives\n",
      "archive search url: https://en.wikipedia.org/wiki/Special:Search?search=Test&prefix=User_talk:Harej&fulltext=Search+archives\n",
      "archive search url: https://en.wikipedia.org/wiki/Special:Search?search=Request_for_comment&prefix=Talk:Abortion&fulltext=Search+archives\n",
      "archive search url: https://en.wikipedia.org/wiki/Special:Search?search=Lede,_format,_and_bias&prefix=Talk:Jay_Severin&fulltext=Search+archives\n",
      "['/wiki/Talk:Jay_Severin#Lede,_format,_and_bias']\n",
      "found\n",
      "archive search url: https://en.wikipedia.org/wiki/Special:Search?search=The_extent_of_the_abuse&prefix=Talk:Maajid_Nawaz&fulltext=Search+archives\n",
      "['/wiki/Talk:Maajid_Nawaz#RFC:_The_extent_of_the_abuse']\n",
      "found\n",
      "archive search url: https://en.wikipedia.org/wiki/Special:Search?search=Political_Career&prefix=Talk:Rathika_Sitsabaiesan&fulltext=Search+archives\n",
      "['/wiki/Talk:Rathika_Sitsabaiesan#Political_Career']\n",
      "found\n",
      "archive search url: https://en.wikipedia.org/wiki/Special:Search?search=Request_for_Comment&prefix=Talk:I'm_with_You_(album)&fulltext=Search+archives\n",
      "[]\n",
      "archive search url: https://en.wikipedia.org/wiki/Special:Search?search=Jesus_Revisited&prefix=Talk:List_of_fictional_Jews&fulltext=Search+archives\n",
      "['/wiki/Talk:List_of_fictional_Jews/Archive_1#Jesus_Revisited']\n",
      "found\n",
      "archive search url: https://en.wikipedia.org/wiki/Special:Search?search=Editors_to_require_autoconfirmed_status_in_order_to_create_articles:_Trial_duration&prefix=Wikipedia:Village_pump_(proposals)/Proposal_to_require_autoconfirmed_status_in_order_to_create_articles/Trial_duration&fulltext=Search+archives\n",
      "['/wiki/Wikipedia:Village_pump_(proposals)/Proposal_to_require_autoconfirmed_status_in_order_to_create_articles/Trial_duration#Editors_to_require_autoconfirmed_status_in_order_to_create_articles:_Trial_duration']\n",
      "found\n",
      "archive search url: https://en.wikipedia.org/wiki/Special:Search?search=Removal_of_RS_material&prefix=Talk:Soon_and_Baliunas_controversy&fulltext=Search+archives\n",
      "archive search url: https://en.wikipedia.org/wiki/Special:Search?search=Noah_the_Dog&prefix=Talk:Pam_Bondi&fulltext=Search+archives\n"
     ]
    },
    {
     "name": "stdout",
     "output_type": "stream",
     "text": [
      "['/wiki/Talk:Pam_Bondi/Archive_1#Noah_the_Dog']\n",
      "found\n",
      "archive search url: https://en.wikipedia.org/wiki/Special:Search?search=Who_and_what_deserves_the_label_\"militant_atheist\"?_Who_gets_to_decide?&prefix=Talk:Militant_atheism&fulltext=Search+archives\n",
      "archive search url: https://en.wikipedia.org/wiki/Special:Search?search=RfC:_Should_the_name_of_the_article_be_changed_to_\"Casey_Anthony_Trial'?&prefix=Talk:Death_of_Caylee_Anthony&fulltext=Search+archives\n",
      "archive search url: https://en.wikipedia.org/wiki/Special:Search?search=RfC:_Should_an_article_on_Casey_Anthony_be_created?&prefix=Talk:Casey_Anthony&fulltext=Search+archives\n",
      "['/wiki/Talk:Casey_Anthony#RfC:_Should_an_article_on_Casey_Anthony_be_created?']\n",
      "found\n",
      "archive search url: https://en.wikipedia.org/wiki/Special:Search?search=Album_release_date_edit_war&prefix=Talk:I'm_with_You_(album)&fulltext=Search+archives\n",
      "[]\n",
      "archive search url: https://en.wikipedia.org/wiki/Special:Search?search=Notability_guidelines_needed_for_plays/drama&prefix=Wikipedia_talk:WikiProject_Theatre&fulltext=Search+archives\n",
      "['/wiki/Wikipedia_talk:WikiProject_Theatre/Archive_5#Notability_guidelines_needed_for_plays/drama']\n",
      "found\n",
      "archive search url: https://en.wikipedia.org/wiki/Special:Search?search=Red_Hot_Chili_Peppers_release_date_edit_war&prefix=Talk:I'm_with_You_(album)&fulltext=Search+archives\n",
      "['/wiki/Talk:I%27m_with_You_(album)#Red_Hot_Chili_Peppers_release_date_edit_war']\n",
      "found\n",
      "archive search url: https://en.wikipedia.org/wiki/Special:Search?search=Move_to_close&prefix=Wikipedia_talk:Naming_conventions_(Tibetan)&fulltext=Search+archives\n",
      "['/wiki/Wikipedia_talk:Naming_conventions_(Tibetan)#Move_to_close']\n",
      "found\n",
      "archive search url: https://en.wikipedia.org/wiki/Special:Search?search=Edit_wars&prefix=Talk:Opeth_discography&fulltext=Search+archives\n",
      "['/wiki/Talk:Opeth_discography#Edit_wars']\n",
      "found\n",
      "archive search url: https://en.wikipedia.org/wiki/Special:Search?search=Can_wikipedia_editors_reject_the_finding_of_a_relevant_peer_reviewed_paper_and_not_include_it_in_the_article?&prefix=Talk:Vaccine_controversies&fulltext=Search+archives\n",
      "archive search url: https://en.wikipedia.org/wiki/Special:Search?search=Article_Feedback_Tool&prefix=Wikipedia:Requests_for_comment/Request_board&fulltext=Search+archives\n",
      "[]\n",
      "archive search url: https://en.wikipedia.org/wiki/Special:Search?search=Phrasing_LEAD_intro,_according_to_the_official_\"Geopolitical_ethnic_and_religious_conflicts\"_noticeboard&prefix=Talk:Islamic_terrorism&fulltext=Search+archives\n",
      "archive search url: https://en.wikipedia.org/wiki/Special:Search?search=Wikisource/Wikipedia_Game&prefix=Talk:Requests_for_comment&fulltext=Search+archives\n",
      "['/wiki/Talk:Requests_for_comment#Wikisource/Wikipedia_Game']\n",
      "found\n",
      "archive search url: https://en.wikipedia.org/wiki/Special:Search?search=FAR&prefix=Talk:Selena&fulltext=Search+archives\n",
      "archive search url: https://en.wikipedia.org/wiki/Special:Search?search=RfC:_What_is_Thompson_notable_for,_and_does_the_article_accurately_reflect_the_level_of_scientific_acceptance_of_his_ideas?&prefix=Talk:Richard_L._Thompson&fulltext=Search+archives\n",
      "['/wiki/Talk:Richard_L._Thompson/Archive_1#RfC:_What_is_Thompson_notable_for,_and_does_the_article_accurately_reflect_the_level_of_scientific_acceptance_of_his_ideas?']\n",
      "found\n",
      "archive search url: https://en.wikipedia.org/wiki/Special:Search?search=Threaded_discussion&prefix=Talk:Kingston_University&fulltext=Search+archives\n",
      "['/wiki/Talk:Kingston_University/Archive_2#Threaded_discussion']\n",
      "found\n",
      "archive search url: https://en.wikipedia.org/wiki/Special:Search?search=RfC:_neutral_language_and_reliable_sources&prefix=Talk:Hockey_stick_controversy&fulltext=Search+archives\n",
      "archive search url: https://en.wikipedia.org/wiki/Special:Search?search=RfC:_Sourced_(?)_genre_addition&prefix=Talk:Dethklok&fulltext=Search+archives\n",
      "['/wiki/Talk:Dethklok#RfC:_Sourced_(?)_genre_addition']\n",
      "found\n",
      "archive search url: https://en.wikipedia.org/wiki/Special:Search?search=RfC_on_reconfirmation_RfA_standards&prefix=Wikipedia_talk:Requests_for_adminship&fulltext=Search+archives\n",
      "['/wiki/Wikipedia_talk:Requests_for_adminship/Archive_211#RfC_on_reconfirmation_RfA_standards']\n",
      "found\n",
      "archive search url: https://en.wikipedia.org/wiki/Special:Search?search=RfC:_how_Wikipedia_cites_the_official_name_of_the_country&prefix=Talk:South_Sudan&fulltext=Search+archives\n",
      "['/wiki/Talk:South_Sudan/Archive_2#RfC:_how_Wikipedia_cites_the_official_name_of_the_country']\n",
      "found\n",
      "archive search url: https://en.wikipedia.org/wiki/Special:Search?search=Proposed_merger_to_''[[Bad_Girls_Club#Participants]]''&prefix=Talk:List_of_Bad_Girls_Club_participants&fulltext=Search+archives\n",
      "archive search url: https://en.wikipedia.org/wiki/Special:Search?search=Uploading_from_iPhone,_iPad,_and_similar_devices&prefix=Wikipedia_talk:Upload&fulltext=Search+archives\n",
      "['/wiki/Wikipedia_talk:Upload/Archive/2011#Uploading_from_iPhone,_iPad,_and_similar_devices']\n",
      "found\n",
      "archive search url: https://en.wikipedia.org/wiki/Special:Search?search=서울특별시_is_not_Seoul_Special_City,_but_Seoul_Metropolitan_Government_in_English&prefix=Wikipedia_talk:WikiProject_Korea&fulltext=Search+archives\n",
      "[u'/wiki/Wikipedia_talk:WikiProject_Korea/Archive_9#\\uc11c\\uc6b8\\ud2b9\\ubcc4\\uc2dc_is_not_Seoul_Special_City,_but_Seoul_Metropolitan_Government_in_English']\n",
      "found\n",
      "archive search url: https://en.wikipedia.org/wiki/Special:Search?search=What_are_\"tagged_sockpuppets\"?&prefix=Wikipedia_talk:Edit_warring&fulltext=Search+archives\n",
      "archive search url: https://en.wikipedia.org/wiki/Special:Search?search=RfC,_further_input_on_poll_above&prefix=Talk:Chinese_civilization&fulltext=Search+archives\n",
      "[]\n",
      "archive search url: https://en.wikipedia.org/wiki/Special:Search?search=RfC:_removal_(or_gross_reduction)_of_Aktion_T4_from_the_euthanasia_article&prefix=Talk:Euthanasia&fulltext=Search+archives\n",
      "['/wiki/Talk:Euthanasia/Archive_3#RfC:_removal_(or_gross_reduction)_of_Aktion_T4_from_the_euthanasia_article']\n",
      "found\n",
      "archive search url: https://en.wikipedia.org/wiki/Special:Search?search=RfC:_POV_allegations&prefix=Talk:Maratha,_Santalaris_and_Aloda_massacre&fulltext=Search+archives\n",
      "['/wiki/Talk:Maratha,_Santalaris_and_Aloda_massacre#RfC:_POV_allegations']\n",
      "found\n",
      "archive search url: https://en.wikipedia.org/wiki/Special:Search?search=RfC:_DYK_quality_assurance_and_archiving&prefix=Wikipedia_talk:Did_you_know&fulltext=Search+archives\n",
      "archive search url: https://en.wikipedia.org/wiki/Special:Search?search=RfC_for_Collapse_boxes_on_chess_problems&prefix=Wikipedia_talk:Manual_of_Style&fulltext=Search+archives\n",
      "archive search url: https://en.wikipedia.org/wiki/Special:Search?search=RfC:_Which_of_two_photos_in_more_appropriate_for_the_lede_of_the_femininity_article&prefix=Talk:Femininity&fulltext=Search+archives\n",
      "['/wiki/Talk:Femininity/Archive_3#RfC:_Which_of_two_photos_in_more_appropriate_for_the_lede_of_the_femininity_article']\n",
      "found\n",
      "archive search url: https://en.wikipedia.org/wiki/Special:Search?search=Armenian_Genocide&prefix=Talk:Turkey&fulltext=Search+archives\n",
      "archive search url: https://en.wikipedia.org/wiki/Special:Search?search=RfC:_Should_[[Operation_Eagle_Claw]]_Be_Discussed_In_This_Article_and_Do_the_Included_Citations_Support_the_Article?&prefix=Talk:Operation_Entebbe&fulltext=Search+archives\n",
      "['/wiki/Talk:Operation_Entebbe/Archive_2#RfC:_Should_Operation_Eagle_Claw_Be_Discussed_In_This_Article_and_Do_the_Included_Citations_Support_the_Article?']\n",
      "archive search url: https://en.wikipedia.org/wiki/Special:Search?search=Debate_regarding_inclusion_or_exclusion_of_passage_from_Breivik's_Manifesto_regarding_his_praise_of_Al_Queda&prefix=Talk:Anders_Behring_Breivik&fulltext=Search+archives\n",
      "archive search url: https://en.wikipedia.org/wiki/Special:Search?search=RfC_Lead_Wording&prefix=Talk:USANA_Health_Sciences&fulltext=Search+archives\n",
      "['/wiki/Talk:USANA_Health_Sciences/Archive_4#RfC_Lead_Wording']\n",
      "found\n",
      "archive search url: https://en.wikipedia.org/wiki/Special:Search?search=Hong_Kong_and_Macau&prefix=Template_talk:List_of_Asian_capitals_by_region&fulltext=Search+archives\n",
      "['/wiki/Template_talk:List_of_Asian_capitals_by_region#Hong_Kong_and_Macau']\n",
      "found\n",
      "archive search url: https://en.wikipedia.org/wiki/Special:Search?search=RFC_tag&prefix=Talk:Yeshu&fulltext=Search+archives\n"
     ]
    },
    {
     "name": "stdout",
     "output_type": "stream",
     "text": [
      "archive search url: https://en.wikipedia.org/wiki/Special:Search?search=RFC:_Rationale_behind_the_ban_and_majority_vs._sources&prefix=Wikipedia_talk:Manual_of_Style&fulltext=Search+archives\n",
      "['/wiki/Wikipedia_talk:Manual_of_Style/Archive_125#RFC:_Rationale_behind_the_ban_and_majority_vs._sources']\n",
      "found\n",
      "archive search url: https://en.wikipedia.org/wiki/Special:Search?search=Request_for_Comments&prefix=Talk:Chepni_people&fulltext=Search+archives\n",
      "['/wiki/Talk:Chepni_people#Request_for_Comments']\n",
      "found\n",
      "archive search url: https://en.wikipedia.org/wiki/Special:Search?search=Blissymbols_in_AAC&prefix=Talk:Augmentative_and_alternative_communication&fulltext=Search+archives\n",
      "archive search url: https://en.wikipedia.org/wiki/Special:Search?search=RFC_for_naming_of_by_school_student_related_categories&prefix=Wikipedia_talk:WikiProject_Schools&fulltext=Search+archives\n",
      "['/wiki/Wikipedia_talk:WikiProject_Schools/Archive_20#RFC_for_naming_of_by_school_student_related_categories']\n",
      "found\n",
      "archive search url: https://en.wikipedia.org/wiki/Special:Search?search=RfC_for_Romance_and_Drama_as_redundant_genres_of_Harem&prefix=Wikipedia_talk:WikiProject_Anime_and_manga&fulltext=Search+archives\n",
      "archive search url: https://en.wikipedia.org/wiki/Special:Search?search=Why_are_there_references_on_the_discussion_page_only_to_Judaism?&prefix=Talk:Hamsa&fulltext=Search+archives\n",
      "['/wiki/Talk:Hamsa#Why_are_there_references_on_the_discussion_page_only_to_Judaism?']\n",
      "found\n",
      "archive search url: https://en.wikipedia.org/wiki/Special:Search?search=RFC:_Aviation_accidents_and_incidents_template_change&prefix=Template_talk:Aviation_accidents_and_incidents_in_2011&fulltext=Search+archives\n",
      "['/wiki/Template_talk:Aviation_accidents_and_incidents_in_2011#RFC:_Aviation_accidents_and_incidents_template_change']\n",
      "found\n",
      "archive search url: https://en.wikipedia.org/wiki/Special:Search?search=RfC:_Has_the_[[Floppy_disk_hardware_emulator]]_article_to_be_edited_according_to_WP:NPOV_/_WP:SELFPROMOTE&prefix=Talk:Floppy_disk_hardware_emulator&fulltext=Search+archives\n",
      "['/wiki/Talk:Floppy_disk_hardware_emulator/Archive_1#RfC:_Has_the_Floppy_disk_hardware_emulator_article_to_be_edited_according_to_WP:NPOV_/_WP:SELFPROMOTE_?']\n",
      "archive search url: https://en.wikipedia.org/wiki/Special:Search?search=Meaning_of_zodiacal_longitude_and_sign_of_the_zodiac&prefix=Talk:Ophiuchus&fulltext=Search+archives\n",
      "['/wiki/Talk:Ophiuchus#Meaning_of_zodiacal_longitude_and_sign_of_the_zodiac']\n",
      "found\n",
      "archive search url: https://en.wikipedia.org/wiki/Special:Search?search=RfC:_Which_logo_should_be_used_in_the_infobox_at_Republican_Party_(United_States)?&prefix=Talk:Republican_Party_(United_States)&fulltext=Search+archives\n",
      "archive search url: https://en.wikipedia.org/wiki/Special:Search?search=RfC:_Should_Nina_Totenberg's_direct_quote_about_Jesse_Helms_and_AIDS_be_included_in_the_NPR_controversies_article?&prefix=Talk:NPR_controversies&fulltext=Search+archives\n",
      "[\"/wiki/Talk:NPR_controversies#RfC:_Should_Nina_Totenberg's_direct_quote_about_Jesse_Helms_and_AIDS_be_included_in_the_NPR_controversies_article?\"]\n",
      "found\n",
      "archive search url: https://en.wikipedia.org/wiki/Special:Search?search=Request_for_Comments&prefix=Talk:Ottoman_Algeria&fulltext=Search+archives\n",
      "['/wiki/Talk:Ottoman_Algeria#Request_for_Comments']\n",
      "found\n",
      "archive search url: https://en.wikipedia.org/wiki/Special:Search?search=Request_for_comment&prefix=Talk:Stephanie_Adams&fulltext=Search+archives\n",
      "[]\n",
      "archive search url: https://en.wikipedia.org/wiki/Special:Search?search=RfC:_Is_a_full_category_structure_needed_under_Category:China?&prefix=Category_talk:China&fulltext=Search+archives\n",
      "['/wiki/Category_talk:China#RfC:_Is_a_full_category_structure_needed_under_Category:China?']\n",
      "found\n",
      "archive search url: https://en.wikipedia.org/wiki/Special:Search?search=Request_for_Comments&prefix=Talk:United_Armenia&fulltext=Search+archives\n",
      "['/wiki/Talk:United_Armenia#Request_for_Comments']\n",
      "found\n",
      "archive search url: https://en.wikipedia.org/wiki/Special:Search?search=Primary_topic_of_China&prefix=Talk:Chinese_civilization&fulltext=Search+archives\n",
      "archive search url: https://en.wikipedia.org/wiki/Special:Search?search=RfC_proposing_removal_of_all_unsourced_station_slogans&prefix=Wikipedia_talk:WikiProject_Television_Stations&fulltext=Search+archives\n",
      "['/wiki/Wikipedia_talk:WikiProject_Television_Stations/Archive_9#RfC_proposing_removal_of_all_unsourced_station_slogans']\n",
      "found\n",
      "archive search url: https://en.wikipedia.org/wiki/Special:Search?search=The_name_of_this_article&prefix=Talk:Tree_shaping&fulltext=Search+archives\n",
      "archive search url: https://en.wikipedia.org/wiki/Special:Search?search=Religion_of_Anders_Behring_Breivik&prefix=Talk:Anders_Behring_Breivik&fulltext=Search+archives\n",
      "archive search url: https://en.wikipedia.org/wiki/Special:Search?search=Awards_edit&prefix=Morgantown&fulltext=Search+archives\n",
      "[]\n",
      "archive search url: https://en.wikipedia.org/wiki/Special:Search?search=Removal_of_Awards_by_Tenebrae&prefix=Talk:Morgantown,_West_Virginia&fulltext=Search+archives\n",
      "['/wiki/Talk:Morgantown,_West_Virginia#Removal_of_Awards_by_Tenebrae']\n",
      "found\n",
      "archive search url: https://en.wikipedia.org/wiki/Special:Search?search=RfC_on_inclusion_of_extensive_[[regression_to_the_mean]]_content&prefix=Talk:Heritability_of_IQ&fulltext=Search+archives\n",
      "['/wiki/Talk:Heritability_of_IQ/Archive_1#RfC_on_inclusion_of_extensive_regression_to_the_mean_content_in_Heritability_of_IQ']\n",
      "archive search url: https://en.wikipedia.org/wiki/Special:Search?search=Request_for_Comment_of_August_2011&prefix=Talk:Kingdom_of_Sardinia&fulltext=Search+archives\n",
      "['/wiki/Talk:Kingdom_of_Sardinia/Archive_2#Request_for_Comment_of_August_2011']\n",
      "found\n",
      "archive search url: https://en.wikipedia.org/wiki/Special:Search?search=Is_faster-than-light_power_transmission_an_appropriate_topic_for_the_Electric_power_transmission_article?&prefix=Talk:Electric_power_transmission&fulltext=Search+archives\n",
      "['/wiki/Talk:Electric_power_transmission#Is_faster-than-light_power_transmission_an_appropriate_topic_for_the_Electric_power_transmission_article?']\n",
      "found\n",
      "archive search url: https://en.wikipedia.org/wiki/Special:Search?search=Lead_paragraph_to_Lede_paragraph&prefix=Talk:Lead_paragraph&fulltext=Search+archives\n",
      "['/wiki/Talk:Lead_paragraph#Lead_paragraph_to_Lede_paragraph']\n",
      "found\n",
      "archive search url: https://en.wikipedia.org/wiki/Special:Search?search=Cook_Islands_and_Niue_RFC&prefix=Talk:List_of_sovereign_states&fulltext=Search+archives\n",
      "archive search url: https://en.wikipedia.org/wiki/Special:Search?search=Lead_paragraph_to_Lede&prefix=Talk:Lead_paragraph&fulltext=Search+archives\n",
      "['/wiki/Talk:Lead_paragraph#Lead_paragraph_to_Lede_paragraph']\n",
      "found\n",
      "archive search url: https://en.wikipedia.org/wiki/Special:Search?search=Planned_Parenthood_eugenics_link&prefix=Talk:Planned_Parenthood&fulltext=Search+archives\n",
      "archive search url: https://en.wikipedia.org/wiki/Special:Search?search=Third_parties_comment.&prefix=Talk:Boris_Berezovsky_(businessman)&fulltext=Search+archives\n",
      "['/wiki/Talk:Boris_Berezovsky_(businessman)/Archive_2#Third_parties_comment.']\n",
      "found\n",
      "archive search url: https://en.wikipedia.org/wiki/Special:Search?search=RfC:_re-stating_the_issue_/_summarizing&prefix=Talk:Floppy_disk_hardware_emulator&fulltext=Search+archives\n",
      "['/wiki/Talk:Floppy_disk_hardware_emulator/Archive_1#RfC:_re-stating_the_issue_/_summarizing']\n",
      "found\n",
      "archive search url: https://en.wikipedia.org/wiki/Special:Search?search=Should_articles_on_ship_classes_include_ships_from_video_games_or_novels?&prefix=Talk:Galaxy_class_starship&fulltext=Search+archives\n",
      "['/wiki/Talk:Galaxy_class_starship#Should_articles_on_ship_classes_include_ships_from_video_games_or_novels?']\n",
      "found\n",
      "archive search url: https://en.wikipedia.org/wiki/Special:Search?search=RfC:_Leuko_vs._SGMD1_edits_re:_Accreditation,_Student_Loan_Scandal,_Curriculum,_Tuition,_Student_Life_sections&prefix=Talk:Windsor_University_School_of_Medicine&fulltext=Search+archives\n",
      "[]\n",
      "archive search url: https://en.wikipedia.org/wiki/Special:Search?search=Nationality&prefix=Talk:Ernest_Shackleton&fulltext=Search+archives\n",
      "['/wiki/Talk:Ernest_Shackleton#Nationality']\n",
      "found\n",
      "archive search url: https://en.wikipedia.org/wiki/Special:Search?search=Proposal_:_date_formats_in_reference_sections&prefix=Wikipedia_talk:Manual_of_Style/Dates_and_numbers&fulltext=Search+archives\n"
     ]
    },
    {
     "name": "stdout",
     "output_type": "stream",
     "text": [
      "archive search url: https://en.wikipedia.org/wiki/Special:Search?search=RFC:__is_POVTITLE_appropriate_policy?&prefix=Wikipedia_talk:Article_titles&fulltext=Search+archives\n",
      "archive search url: https://en.wikipedia.org/wiki/Special:Search?search='center-right_party'&prefix=Talk:Republican_Party_(United_States)&fulltext=Search+archives\n",
      "archive search url: https://en.wikipedia.org/wiki/Special:Search?search=\"Controversy\"&prefix=Talk:Windsor_University_School_of_Medicine&fulltext=Search+archives\n",
      "['/wiki/Talk:Windsor_University_School_of_Medicine/Archive_1#\"Controversy\"']\n",
      "found\n",
      "archive search url: https://en.wikipedia.org/wiki/Special:Search?search=RfC:_Should_Garcia's_legal_problems_and_suspensions_be_mentioned?&prefix=Talk:Stephen_Garcia&fulltext=Search+archives\n",
      "[\"/wiki/Talk:Stephen_Garcia#RfC:_Should_Garcia's_legal_problems_and_suspensions_be_mentioned?\"]\n",
      "found\n",
      "archive search url: https://en.wikipedia.org/wiki/Special:Search?search=Full_list_of_ingredients_and_nutritional_information&prefix=Talk:Juice_Plus&fulltext=Search+archives\n",
      "['/wiki/Talk:Juice_Plus#Full_list_of_ingredients_and_nutritional_information']\n",
      "found\n",
      "archive search url: https://en.wikipedia.org/wiki/Special:Search?search=Calvary_Chapel&prefix=Talk:Calvary_Chapel&fulltext=Search+archives\n",
      "archive search url: https://en.wikipedia.org/wiki/Special:Search?search=Michael_Lewis_(writer)&prefix=Talk:Michael_Lewis&fulltext=Search+archives\n",
      "['/wiki/Talk:Michael_Lewis/Archive_1#Michael_Lewis_(writer)']\n",
      "found\n",
      "archive search url: https://en.wikipedia.org/wiki/Special:Search?search=RfCU&prefix=User_talk:TimeStandStill&fulltext=Search+archives\n",
      "['/wiki/User_talk:TimeStandStill#RfCU']\n",
      "found\n",
      "archive search url: https://en.wikipedia.org/wiki/Special:Search?search=RFC&prefix=Talk:Wedge_strategy&fulltext=Search+archives\n",
      "archive search url: https://en.wikipedia.org/wiki/Special:Search?search=Examples&prefix=Talk:Lump_sum&fulltext=Search+archives\n",
      "archive search url: https://en.wikipedia.org/wiki/Special:Search?search=Derivated_work,_non-notable_somewhat_fanficted&prefix=Talk:Fate_of_the_Jedi&fulltext=Search+archives\n",
      "['/wiki/Talk:Fate_of_the_Jedi#Derivated_work,_non-notable_somewhat_fanficted']\n",
      "found\n",
      "archive search url: https://en.wikipedia.org/wiki/Special:Search?search=Note_to_editors_at_the_top_of_article&prefix=Talk:List_of_Puerto_Ricans&fulltext=Search+archives\n",
      "['/wiki/Talk:List_of_Puerto_Ricans/Archives/2011/August#RfC:_Note_to_editors_at_the_top_of_article']\n",
      "found\n",
      "archive search url: https://en.wikipedia.org/wiki/Special:Search?search=Biographical_content_dispute_with_[[WP:SPA]]&prefix=Talk:Spider_Ledesma&fulltext=Search+archives\n",
      "['/wiki/Talk:Spider_Ledesma#Biographical_content_dispute_with_WP:SPA']\n",
      "archive search url: https://en.wikipedia.org/wiki/Special:Search?search=Primary_topic_of_China&prefix=Talk:Chinese_civilization&fulltext=Search+archives\n",
      "archive search url: https://en.wikipedia.org/wiki/Special:Search?search=Cheryl_Rubenberg&prefix=Talk:Cheryl_Rubenberg&fulltext=Search+archives\n",
      "archive search url: https://en.wikipedia.org/wiki/Special:Search?search=Coffee_Party_USA&prefix=Talk:Coffee_Party_USA&fulltext=Search+archives\n",
      "archive search url: https://en.wikipedia.org/wiki/Special:Search?search=Constant_page_vandalism&prefix=Talk:Magnet_Kitchens&fulltext=Search+archives\n",
      "['/wiki/Talk:Magnet_Kitchens#Constant_page_vandalism']\n",
      "found\n",
      "archive search url: https://en.wikipedia.org/wiki/Special:Search?search=Inclusion_of_sex_tape&prefix=Talk:Anya_Ayoung-Chee&fulltext=Search+archives\n",
      "archive search url: https://en.wikipedia.org/wiki/Special:Search?search=RfC:_Dog_Breed_Info_--_reliable_source_or_not?&prefix=Wikipedia_talk:WikiProject_Dogs&fulltext=Search+archives\n",
      "['/wiki/Wikipedia_talk:WikiProject_Dogs/Archive_7#RfC:_Dog_Breed_Info_--_reliable_source_or_not?']\n",
      "found\n",
      "archive search url: https://en.wikipedia.org/wiki/Special:Search?search=Doubt_about_Java_name&prefix=Talk:Java_(programming_language)&fulltext=Search+archives\n",
      "archive search url: https://en.wikipedia.org/wiki/Special:Search?search=RfC:_Proposal_for_content_dispute/cleanup_templates_for_use_in_template_name_space_and_the_changes_to_policy/guidelines_required&prefix=Wikipedia_talk:Template_messages&fulltext=Search+archives\n",
      "archive search url: https://en.wikipedia.org/wiki/Special:Search?search=RfC&prefix=Talk:Beard&fulltext=Search+archives\n",
      "['/wiki/Talk:Beard/Archive_2#RfC']\n",
      "found\n",
      "archive search url: https://en.wikipedia.org/wiki/Special:Search?search=Latest_RFC&prefix=Talk:Kingdom_of_Sardinia&fulltext=Search+archives\n",
      "['/wiki/Talk:Kingdom_of_Sardinia/Archive_3#Latest_RFC']\n",
      "found\n",
      "archive search url: https://en.wikipedia.org/wiki/Special:Search?search=Attempt_for_middle_ground_after_three_reverts&prefix=Talk:Cadence_Industries&fulltext=Search+archives\n",
      "['/wiki/Talk:Cadence_Industries#Attempt_for_middle_ground_after_three_reverts']\n",
      "found\n",
      "archive search url: https://en.wikipedia.org/wiki/Special:Search?search=Which_Wikipedia_guideline(s)_should_establish_citation_format?&prefix=Talk:Citing_sources&fulltext=Search+archives\n",
      "[]\n",
      "archive search url: https://en.wikipedia.org/wiki/Special:Search?search=RfC:_''[[Mommie_Dearest_(film)]]''&prefix=Talk:List_of_films_considered_the_worst&fulltext=Search+archives\n",
      "archive search url: https://en.wikipedia.org/wiki/Special:Search?search=Unsourced_release_date_revisited&prefix=Talk:Super_Mario_3D_Land&fulltext=Search+archives\n",
      "['/wiki/Talk:Super_Mario_3D_Land#Unsourced_release_date_revisited']\n",
      "found\n",
      "archive search url: https://en.wikipedia.org/wiki/Special:Search?search=Should_[[:Template:Infobox_musical_artist]]_include_a_\"spouse\"_field?&prefix=Template_talk:Infobox_musical_artist&fulltext=Search+archives\n",
      "['/wiki/Template_talk:Infobox_musical_artist/Archive_9#Should_Template:Infobox_musical_artist_include_a_\"spouse\"_field?', '/wiki/Template_talk:Infobox_musical_artist/Archive_11#Spouse,_partner,_and_children_support']\n",
      "archive search url: https://en.wikipedia.org/wiki/Special:Search?search=Criteria_for_inclusion&prefix=Talk:British_war_crimes&fulltext=Search+archives\n",
      "['/wiki/Talk:British_war_crimes#Criteria_for_inclusion']\n",
      "found\n",
      "archive search url: https://en.wikipedia.org/wiki/Special:Search?search=TheVOid&prefix=Talk:Mark_Teltscher&fulltext=Search+archives\n",
      "['/wiki/Talk:TheVOid']\n",
      "found\n",
      "archive search url: https://en.wikipedia.org/wiki/Special:Search?search=RfC:_Ram_Nag&prefix=Talk:Hawiye&fulltext=Search+archives\n",
      "['/wiki/Talk:Hawiye#RfC:_Ram_Nag']\n",
      "found\n",
      "archive search url: https://en.wikipedia.org/wiki/Special:Search?search=RFC_on_the_bot-addition_of_identifier_links_to_citations&prefix=Wikipedia:Village_pump_(policy)&fulltext=Search+archives\n",
      "['/wiki/Wikipedia:Village_pump_(policy)/Archive_91#RFC_on_the_bot-addition_of_identifier_links_to_citations']\n",
      "found\n",
      "archive search url: https://en.wikipedia.org/wiki/Special:Search?search=&prefix=Talk:Ping_An_Finance_Centre&fulltext=Search+archives\n",
      "[]\n",
      "archive search url: https://en.wikipedia.org/wiki/Special:Search?search=Use_of_Tatham_as_a_source&prefix=Talk:Falkland_Islands&fulltext=Search+archives\n",
      "archive search url: https://en.wikipedia.org/wiki/Special:Search?search=RFC:_Is_\"death\"_generally_an_euphemism_of_\"murder\"_or_a_NPOV_presentation_of_a_killing_that_has_not_resulted_in_conviction.&prefix=Wikipedia_talk:Manual_of_Style/Words_to_watch&fulltext=Search+archives\n",
      "['/wiki/Wikipedia_talk:Manual_of_Style/Words_to_watch/Archive_3#RFC:_Is_\"death\"_generally_an_euphemism_of_\"murder\"_or_a_NPOV_presentation_of_a_killing_that_has_not_resulted_in_conviction.']\n",
      "found\n",
      "archive search url: https://en.wikipedia.org/wiki/Special:Search?search=Poll_on_the_future_of_WikiProject_Writing_Systems&prefix=Wikipedia_talk:WikiProject_Writing_systems&fulltext=Search+archives\n",
      "['/wiki/Wikipedia_talk:WikiProject_Writing_systems/Archive_7#Poll_on_the_future_of_WikiProject_Writing_Systems']\n",
      "found\n",
      "archive search url: https://en.wikipedia.org/wiki/Special:Search?search=RFC:_Third_party_coverage&prefix=Talk:Leonard_R._Brand&fulltext=Search+archives\n",
      "[]\n",
      "archive search url: https://en.wikipedia.org/wiki/Special:Search?search=RfC:_how_should_we_refer_to_the_practice?&prefix=Talk:Female_genital_mutilation&fulltext=Search+archives\n",
      "archive search url: https://en.wikipedia.org/wiki/Special:Search?search=RfC:_What_genre_should_the_band_be_called_in_the_lead_of_the_article?&prefix=Talk:Death_Cab_for_Cutie&fulltext=Search+archives\n"
     ]
    },
    {
     "name": "stdout",
     "output_type": "stream",
     "text": [
      "['/wiki/Talk:Death_Cab_for_Cutie/Archive_2#RfC:_What_genre_should_the_band_be_called_in_the_lead_of_the_article?']\n",
      "found\n",
      "archive search url: https://en.wikipedia.org/wiki/Special:Search?search=Should_his_biography_include_the_fact_that_he_was_a_[[Bilderberg]]_attendee&prefix=Talk:Rick_Perry&fulltext=Search+archives\n",
      "archive search url: https://en.wikipedia.org/wiki/Special:Search?search=RFC:_\"global_warming_conspiracy_theory\"&prefix=Talk:Climatic_Research_Unit_email_controversy&fulltext=Search+archives\n",
      "archive search url: https://en.wikipedia.org/wiki/Special:Search?search=RfC_on_BLPSIGN_as_official_policy&prefix=Wikipedia_talk:Signatures_of_living_persons&fulltext=Search+archives\n",
      "['/wiki/Wikipedia_talk:Signatures_of_living_persons#RfC_on_BLPSIGN_as_official_policy']\n",
      "found\n",
      "archive search url: https://en.wikipedia.org/wiki/Special:Search?search=Anders_Breivik_image&prefix=Talk:Anders_Behring_Breivik&fulltext=Search+archives\n",
      "archive search url: https://en.wikipedia.org/wiki/Special:Search?search=Anders_Breivik_image&prefix=Talk:Anders_Breivik&fulltext=Search+archives\n",
      "['/wiki/Talk:Anders_Breivik#Anders_Breivik_image']\n",
      "found\n",
      "archive search url: https://en.wikipedia.org/wiki/Special:Search?search=RfC_on_the_lede&prefix=Talk:Joseon&fulltext=Search+archives\n",
      "['/wiki/Talk:Joseon/Archive_2#RfC_on_the_lede']\n",
      "found\n",
      "archive search url: https://en.wikipedia.org/wiki/Special:Search?search=RFC_on_[[WP:NONENG]]&prefix=Wikipedia_talk:Verifiability&fulltext=Search+archives\n",
      "[]\n",
      "archive search url: https://en.wikipedia.org/wiki/Special:Search?search=Request_for_comment_re:_disputed_paragraph&prefix=Talk:Mark_Steyn&fulltext=Search+archives\n",
      "['/wiki/Talk:Mark_Steyn/Archive_2#Request_for_comment_re:_disputed_paragraph']\n",
      "found\n",
      "archive search url: https://en.wikipedia.org/wiki/Special:Search?search=RFC:_Use_of_non-latin_or_unicode_characters_as_usernames&prefix=Wikipedia_talk:Username_policy&fulltext=Search+archives\n",
      "archive search url: https://en.wikipedia.org/wiki/Special:Search?search=Interpreting_[[WP:UNDUE]]_policy&prefix=Wikipedia_talk:Neutral_point_of_view&fulltext=Search+archives\n",
      "['/wiki/Wikipedia_talk:Neutral_point_of_view/Archive_45#Interpreting_WP:UNDUE_policy']\n",
      "archive search url: https://en.wikipedia.org/wiki/Special:Search?search=Questions_on_quotes&prefix=Talk:Leonard_R._Brand&fulltext=Search+archives\n",
      "archive search url: https://en.wikipedia.org/wiki/Special:Search?search=RfC:_Stochastic_derivative&prefix=Talk:Itô_calculus&fulltext=Search+archives\n",
      "['/wiki/Talk:It%C3%B4_calculus#RfC:_Stochastic_derivative']\n",
      "found\n",
      "archive search url: https://en.wikipedia.org/wiki/Special:Search?search=Request_for_Comments&prefix=Talk:Zazas&fulltext=Search+archives\n",
      "['/wiki/Talk:Zazas/Archive_2#Request_for_Comments']\n",
      "found\n",
      "archive search url: https://en.wikipedia.org/wiki/Special:Search?search=Does_editing_by_a_registered_editor_without_logging_amount_to_Sock_puppetry&prefix=Talk:Sock_puppetry&fulltext=Search+archives\n",
      "['/wiki/Talk:Sock_puppetry#Does_editing_by_a_registered_editor_without_logging_amount_to_Sock_puppetry']\n",
      "found\n",
      "archive search url: https://en.wikipedia.org/wiki/Special:Search?search=RfC_on_Accuracy_of_Using_Term_\"Air_Raids\"&prefix=Talk:August_2011_Gaza_Strip_air_raids&fulltext=Search+archives\n",
      "[]\n",
      "archive search url: https://en.wikipedia.org/wiki/Special:Search?search=Does_editing_by_a_registered_editor_without_logging_amount_to_Sock_puppetry.&prefix=Wikipedia_talk:Sock_puppetry&fulltext=Search+archives\n",
      "['/wiki/Wikipedia_talk:Sock_puppetry/Archive_11#Does_editing_by_a_registered_editor_without_logging_amount_to_Sock_puppetry.']\n",
      "found\n",
      "archive search url: https://en.wikipedia.org/wiki/Special:Search?search=What_is_appropriate_to_include_in_this_article?&prefix=Talk:Animal_Farm_in_popular_culture&fulltext=Search+archives\n",
      "['/wiki/Talk:Animal_Farm_in_popular_culture#What_is_appropriate_to_include_in_this_article?']\n",
      "found\n",
      "archive search url: https://en.wikipedia.org/wiki/Special:Search?search=Notability_of_the_\"Resource_Space_Model\"&prefix=Talk:Faceted_classification&fulltext=Search+archives\n",
      "['/wiki/Talk:Faceted_classification#Notability_of_the_\"Resource_Space_Model\"']\n",
      "found\n",
      "archive search url: https://en.wikipedia.org/wiki/Special:Search?search=Individuals'_names&prefix=Wikipedia_talk:Manual_of_Style/Capital_letters&fulltext=Search+archives\n",
      "archive search url: https://en.wikipedia.org/wiki/Special:Search?search=Naming_of_the_administrator_group&prefix=Wikipedia_talk:Administrators&fulltext=Search+archives\n",
      "archive search url: https://en.wikipedia.org/wiki/Special:Search?search=Creative_Commons_-_Attribution_requirements_on_wikiPEDIA_following_proper_attribution_on_wikiCOMMONS&prefix=Talk:Creative_Commons_license&fulltext=Search+archives\n",
      "['/wiki/Talk:Creative_Commons_license#Creative_Commons_-_Attribution_requirements_on_wikiPEDIA_following_proper_attribution_on_wikiCOMMONS']\n",
      "found\n",
      "archive search url: https://en.wikipedia.org/wiki/Special:Search?search=Request:_Erase_\"Seoul_Special_City\"_because_it_is_the_literal_meaning_not_the_official_name_in_English&prefix=Wikipedia_talk:WikiProject_Korea&fulltext=Search+archives\n",
      "['/wiki/Wikipedia_talk:WikiProject_Korea/Archive_9#Request:_Erase_\"Seoul_Special_City\"_because_it_is_the_literal_meaning_not_the_official_name_in_English']\n",
      "found\n",
      "archive search url: https://en.wikipedia.org/wiki/Special:Search?search=Inclusion_criteria&prefix=Template_talk:Campaignbox_Texas_Revolution&fulltext=Search+archives\n",
      "['/wiki/Template_talk:Campaignbox_Texas_Revolution#Inclusion_criteria']\n",
      "found\n",
      "archive search url: https://en.wikipedia.org/wiki/Special:Search?search=Nationality&prefix=Talk:Michael_Gambon&fulltext=Search+archives\n",
      "['/wiki/Talk:Michael_Gambon#Nationality']\n",
      "found\n",
      "archive search url: https://en.wikipedia.org/wiki/Special:Search?search=Request_for_Comment_-_primary_topic?&prefix=Talk:Las_Vegas_(disambiguation)&fulltext=Search+archives\n",
      "['/wiki/Talk:Las_Vegas_(disambiguation)#Request_for_Comment_-_primary_topic?']\n",
      "found\n",
      "archive search url: https://en.wikipedia.org/wiki/Special:Search?search=Including_information_from_a_biased_paper&prefix=Talk:Distribution_of_wealth&fulltext=Search+archives\n",
      "['/wiki/Talk:Distribution_of_wealth#Including_information_from_a_biased_paper']\n",
      "found\n",
      "archive search url: https://en.wikipedia.org/wiki/Special:Search?search=RfC:_Criteria_for_Inclusion&prefix=Talk:Republican_Party_presidential_primaries,_2012&fulltext=Search+archives\n",
      "archive search url: https://en.wikipedia.org/wiki/Special:Search?search=WP:RFC_question&prefix=Wikipedia:Biographies_of_living_persons/Noticeboard&fulltext=Search+archives\n",
      "['/wiki/Wikipedia:Biographies_of_living_persons/Noticeboard/Archive132#WP:RFC_question']\n",
      "found\n",
      "archive search url: https://en.wikipedia.org/wiki/Special:Search?search=Genetic_\"Evidence\"&prefix=Talk:Ethiopian_Semitic_languages&fulltext=Search+archives\n",
      "['/wiki/Talk:Ethiopian_Semitic_languages#Genetic_\"Evidence\"']\n",
      "found\n",
      "archive search url: https://en.wikipedia.org/wiki/Special:Search?search=RfC:_Wikipedia_example_image&prefix=Talk:False_dilemma&fulltext=Search+archives\n",
      "['/wiki/Talk:False_dilemma#RfC:_Wikipedia_example_image']\n",
      "found\n",
      "archive search url: https://en.wikipedia.org/wiki/Special:Search?search=New_York_Times_quote&prefix=Talk:R32/A_(New_York_City_Subway_car)&fulltext=Search+archives\n",
      "['/wiki/Talk:R32/A_(New_York_City_Subway_car)#New_York_Times_quote']\n",
      "found\n",
      "archive search url: https://en.wikipedia.org/wiki/Special:Search?search=Is_text_in_article_justified_by_source?&prefix=Talk:C_(New_York_City_Subway_service)&fulltext=Search+archives\n",
      "['/wiki/Talk:C_(New_York_City_Subway_service)#Is_text_in_article_justified_by_source?']\n",
      "found\n",
      "archive search url: https://en.wikipedia.org/wiki/Special:Search?search=Numbers_in_NRHP_county_lists&prefix=Wikipedia_talk:WikiProject_National_Register_of_Historic_Places&fulltext=Search+archives\n",
      "archive search url: https://en.wikipedia.org/wiki/Special:Search?search=Fully_Instating_Pending_Changes_Protection_(Committee_Formation)&prefix=Talk:Pending_changes&fulltext=Search+archives\n",
      "['/wiki/Talk:Pending_changes#Fully_Instating_Pending_Changes_Protection_(Committee_Formation)']\n",
      "found\n",
      "archive search url: https://en.wikipedia.org/wiki/Special:Search?search=RfC:_Tendentious_editing_of_policy_[[Wikipedia:Verifiability]]&prefix=Wikipedia_talk:Verifiability&fulltext=Search+archives\n"
     ]
    },
    {
     "name": "stdout",
     "output_type": "stream",
     "text": [
      "['/wiki/Wikipedia_talk:Verifiability/Archive_51#RfC:_Tendentious_editing_of_policy_Wikipedia:Verifiability']\n",
      "archive search url: https://en.wikipedia.org/wiki/Special:Search?search=Serial_killer_and_spree_killer_infoboxes&prefix=Template_talk:Infobox_murderer&fulltext=Search+archives\n",
      "['/wiki/Template_talk:Infobox_murderer#Serial_killer_and_spree_killer_infoboxes']\n",
      "found\n",
      "archive search url: https://en.wikipedia.org/wiki/Special:Search?search=RfC_re_image&prefix=Talk:Hentai&fulltext=Search+archives\n",
      "['/wiki/Talk:Hentai/Archive_2#RfC_re_image']\n",
      "found\n",
      "archive search url: https://en.wikipedia.org/wiki/Special:Search?search=RfC:_inclusion_of_plagiarism_allegations&prefix=Talk:The_Dating_Guy&fulltext=Search+archives\n",
      "['/wiki/Talk:The_Dating_Guy/Archive_2#RfC:_inclusion_of_plagiarism_allegations']\n",
      "found\n",
      "archive search url: https://en.wikipedia.org/wiki/Special:Search?search=Green_Party&prefix=Talk:Ontario_general_election,_2011&fulltext=Search+archives\n",
      "['/wiki/Talk:Ontario_general_election,_2011#Green_Party_in_Infobox']\n",
      "found\n",
      "archive search url: https://en.wikipedia.org/wiki/Special:Search?search=Green_Party&prefix=Talk:Yukon_general_election,_2011&fulltext=Search+archives\n",
      "['/wiki/Talk:Yukon_general_election,_2011#Green_Party_in_infobox']\n",
      "found\n",
      "archive search url: https://en.wikipedia.org/wiki/Special:Search?search=RfC:_titling_of_Elizabeth_Rauscher&prefix=Talk:Elizabeth_Rauscher&fulltext=Search+archives\n",
      "['/wiki/Talk:Elizabeth_Rauscher/Archive_1#RfC:_titling_of_Elizabeth_Rauscher']\n",
      "found\n",
      "archive search url: https://en.wikipedia.org/wiki/Special:Search?search=RfC:_Lower_the_limit_of_account_creation_in_a_24_hour_period_by_non-autoconfirmed_accounts&prefix=Wikipedia:Administrators'_noticeboard/Incidents&fulltext=Search+archives\n",
      "[]\n",
      "archive search url: https://en.wikipedia.org/wiki/Special:Search?search=RfC:_Advocacy_section_at_[[Architects_&amp;_Engineers_for_9/11_Truth]]&prefix=Talk:Architects_&_Engineers_for_9/11_Truth&fulltext=Search+archives\n",
      "archive search url: https://en.wikipedia.org/wiki/Special:Search?search=Notability?&prefix=Talk:Kristina_Calhoun&fulltext=Search+archives\n",
      "archive search url: https://en.wikipedia.org/wiki/Special:Search?search=RfC_on_redirection&prefix=Talk:One_Song_to_the_Tune_of_Another&fulltext=Search+archives\n",
      "['/wiki/Talk:One_Song_to_the_Tune_of_Another#RfC_on_redirection']\n",
      "found\n",
      "archive search url: https://en.wikipedia.org/wiki/Special:Search?search=Transfer_to_the_AVICENNA_Directory_for_medicine&prefix=Talk:WHO_Directory_of_Medical_Schools&fulltext=Search+archives\n",
      "['/wiki/Talk:WHO_Directory_of_Medical_Schools#Transfer_to_the_AVICENNA_Directory_for_medicine']\n",
      "found\n",
      "archive search url: https://en.wikipedia.org/wiki/Special:Search?search=RfC_draft_for_final_preference&prefix=Talk:List_of_sovereign_states/Discussion_of_criteria/Archive_7&fulltext=Search+archives\n",
      "[]\n",
      "archive search url: https://en.wikipedia.org/wiki/Special:Search?search=RfC:_Should_[[WP:ITN]]_area_discussions_on_items_in_the_[[WP:ARBPIA]]_topic_area_be_subjected_to_[[WP:ARBPIA]]_itself?&prefix=Wikipedia_talk:In_the_news&fulltext=Search+archives\n",
      "archive search url: https://en.wikipedia.org/wiki/Special:Search?search=Lead_image_RfC&prefix=Talk:Pregnancy&fulltext=Search+archives\n",
      "archive search url: https://en.wikipedia.org/wiki/Special:Search?search=To_what_extent_are_spoilers_permissible_in_the_biography_of_an_author_of_fiction&prefix=Talk:John_le_Carré&fulltext=Search+archives\n",
      "['/wiki/Talk:John_le_Carr%C3%A9/Archive_1#To_what_extent_are_spoilers_permissible_in_the_biography_of_an_author_of_fiction']\n",
      "found\n",
      "archive search url: https://en.wikipedia.org/wiki/Special:Search?search=Is_the_US-China_Review_a_reliable_source?&prefix=Talk:Pre-Columbian_trans-oceanic_contact_theories&fulltext=Search+archives\n",
      "[]\n",
      "archive search url: https://en.wikipedia.org/wiki/Special:Search?search=RfC:_Elimination_of_outline_articles&prefix=Wikipedia:Village_pump_(proposals)&fulltext=Search+archives\n",
      "['/wiki/Wikipedia:Village_pump_(proposals)/Archive_78#RfC:_Elimination_of_outline_articles']\n",
      "found\n",
      "archive search url: https://en.wikipedia.org/wiki/Special:Search?search=Indent_style_for_Curly_Braces_Languages&prefix=Talk:C++&fulltext=Search+archives\n",
      "['/wiki/Talk:C%2B%2B/Archive_11#Indent_style_for_Curly_Braces_Languages']\n",
      "found\n",
      "archive search url: https://en.wikipedia.org/wiki/Special:Search?search=Request_for_comment&prefix=Talk:Kaloyan_of_Bulgaria&fulltext=Search+archives\n",
      "['/wiki/Talk:Kaloyan_of_Bulgaria#Request_for_comment']\n",
      "found\n",
      "archive search url: https://en.wikipedia.org/wiki/Special:Search?search=RFC_on_supercategory&prefix=Category_talk:Anti-abortion_violence&fulltext=Search+archives\n",
      "['/wiki/Category_talk:Anti-abortion_violence#RFC_on_supercategory']\n",
      "found\n",
      "archive search url: https://en.wikipedia.org/wiki/Special:Search?search=Historic_designation_of_the_Palestine_region&prefix=Talk:Palestine_(region)&fulltext=Search+archives\n",
      "archive search url: https://en.wikipedia.org/wiki/Special:Search?search=RfC:_Should_criticism_section_of_Muslim_Brotherhood_in_Egypt_be_deleted?&prefix=Talk:Muslim_Brotherhood_in_Egypt&fulltext=Search+archives\n",
      "[]\n",
      "archive search url: https://en.wikipedia.org/wiki/Special:Search?search=RfC:_Should_the_global_cities_list_be_arranged_as_presented_by_GaWC?&prefix=Talk:Global_city&fulltext=Search+archives\n",
      "['/wiki/Talk:Global_city/Archive_6#RfC:_Should_the_global_cities_list_be_arranged_as_presented_by_GaWC?']\n",
      "found\n",
      "archive search url: https://en.wikipedia.org/wiki/Special:Search?search=RfC:_What_is_the_subject_of_this_article?&prefix=Talk:Far-left_politics&fulltext=Search+archives\n",
      "['/wiki/Talk:Far-left_politics/Archive_2#RfC:_What_is_the_subject_of_this_article?']\n",
      "found\n",
      "archive search url: https://en.wikipedia.org/wiki/Special:Search?search=Which_agencies_to_list_under_\"Accreditation\"?&prefix=Talk:List_of_medical_schools_in_the_Caribbean&fulltext=Search+archives\n",
      "['/wiki/Talk:List_of_medical_schools_in_the_Caribbean#Which_agencies_to_list_under_\"Accreditation\"?']\n",
      "found\n",
      "archive search url: https://en.wikipedia.org/wiki/Special:Search?search=Capitalization_of_\"Chief_Mechanical_Engineer\"_and_\"Locomotive_Superintendent\"&prefix=Talk:Chief_mechanical_engineer&fulltext=Search+archives\n",
      "archive search url: https://en.wikipedia.org/wiki/Special:Search?search=RfC:_Relationships&prefix=Talk:Jessica_Biel&fulltext=Search+archives\n",
      "['/wiki/Talk:Jessica_Biel/Archive_2#RfC:_Relationships']\n",
      "found\n",
      "archive search url: https://en.wikipedia.org/wiki/Special:Search?search=RfC:_Is_attacking_creationism_or_Intelligent_Design_constructive.__Please_represent_both_sides.&prefix=Transitional_fossil&fulltext=Search+archives\n",
      "[]\n",
      "archive search url: https://en.wikipedia.org/wiki/Special:Search?search=RfC:_This_section_needs_to_be_cleaned_up.__Can_we_leave_up_comment_until_both_sides_are_properly_discussed?&prefix=Transitional_fossil&fulltext=Search+archives\n",
      "[]\n",
      "archive search url: https://en.wikipedia.org/wiki/Special:Search?search=Linkrot_-_What_to_do?&prefix=Wikipedia:Village_pump_(idea_lab)&fulltext=Search+archives\n",
      "['/wiki/Wikipedia:Village_pump_(idea_lab)/Archive_5#Linkrot_-_What_to_do?']\n",
      "found\n",
      "archive search url: https://en.wikipedia.org/wiki/Special:Search?search=Make_an_exception_to_the_MoS_capitalization_guidelines_for_the_job_titles:_Chief_Mechanical_Engineer_and_Locomotive_Superintendent&prefix=Talk:Chief_mechanical_engineer&fulltext=Search+archives\n",
      "archive search url: https://en.wikipedia.org/wiki/Special:Search?search=RfC:_Should_the_article_mention_the_Eumenides?&prefix=Talk:Erinyes&fulltext=Search+archives\n",
      "[]\n",
      "archive search url: https://en.wikipedia.org/wiki/Special:Search?search=How_should_the_postion_of_the_[[WP:Bible#Ethiopian_Orthodox_canon]]_be_presented&prefix=Talk:Curse_of_Ham&fulltext=Search+archives\n",
      "[]\n",
      "archive search url: https://en.wikipedia.org/wiki/Special:Search?search=Notability_guideline_required_for_articles_about_products&prefix=Wikipedia_talk:Notability&fulltext=Search+archives\n",
      "archive search url: https://en.wikipedia.org/wiki/Special:Search?search=RfC:_Conspiracy_theories_link&prefix=Talk:September_11_attacks&fulltext=Search+archives\n",
      "archive search url: https://en.wikipedia.org/wiki/Special:Search?search=Failure_to_notify_other_editors&prefix=Wikipedia_talk:Wikiquette_assistance&fulltext=Search+archives\n"
     ]
    },
    {
     "name": "stdout",
     "output_type": "stream",
     "text": [
      "['/wiki/Wikipedia_talk:Wikiquette_assistance/Archive_5#Failure_to_notify_other_editors']\n",
      "found\n",
      "archive search url: https://en.wikipedia.org/wiki/Special:Search?search=Request_for_comments&prefix=Talk:Best_alternative_to_a_negotiated_agreement&fulltext=Search+archives\n",
      "['/wiki/Talk:Best_alternative_to_a_negotiated_agreement#Request_for_comments']\n",
      "found\n",
      "archive search url: https://en.wikipedia.org/wiki/Special:Search?search=Dartmouth:_Disambiguation_or_Redirection?&prefix=Talk:Dartmouth&fulltext=Search+archives\n",
      "archive search url: https://en.wikipedia.org/wiki/Special:Search?search=RfC:_Should_the_ideology_of_Communist_successor_parties_be_called_far_left?&prefix=Talk:Red–Green_Alliance_(Denmark)&fulltext=Search+archives\n",
      "['/wiki/Talk:Red%E2%80%93Green_Alliance_(Denmark)#RfC:_Should_the_ideology_of_Communist_successor_parties_be_called_far_left?']\n",
      "found\n",
      "archive search url: https://en.wikipedia.org/wiki/Special:Search?search=Request_for_comment&prefix=Talk:Greek_genocide&fulltext=Search+archives\n",
      "archive search url: https://en.wikipedia.org/wiki/Special:Search?search=Request_for_comment:_List_of_ex-gay_people.&prefix=Talk:Ex-gay_movement&fulltext=Search+archives\n",
      "[]\n",
      "archive search url: https://en.wikipedia.org/wiki/Special:Search?search=Request_for_Comment&prefix=Talk:Big_Brother_12_(UK)&fulltext=Search+archives\n",
      "['/wiki/Talk:Big_Brother_12_(UK)#Request_for_Comment', '/wiki/Talk:Big_Brother_12_(UK)/Archive_1#Request_for_Comment']\n",
      "found\n",
      "archive search url: https://en.wikipedia.org/wiki/Special:Search?search=Balance_in_the_Lead_to_the_1948_Arab–Israeli_War‎&prefix=Talk:1948_Arab–Israeli_War&fulltext=Search+archives\n",
      "archive search url: https://en.wikipedia.org/wiki/Special:Search?search=Pending_changes_post-mortem;_what_did_we_like,_what_did_we_hate,_what_needs_more_work?&prefix=Wikipedia:Village_pump_(policy)&fulltext=Search+archives\n",
      "['/wiki/Wikipedia:Village_pump_(policy)/Archive_90#Pending_changes_post-mortem;_what_did_we_like,_what_did_we_hate,_what_needs_more_work?']\n",
      "found\n",
      "archive search url: https://en.wikipedia.org/wiki/Special:Search?search=Addressing_the_exclusion_of__Israel's_neighbouring_Palestinian_Arabs_in_the_Article_Lead&prefix=Talk:1948_Arab–Israeli_War&fulltext=Search+archives\n",
      "archive search url: https://en.wikipedia.org/wiki/Special:Search?search=Request_for_comments&prefix=Talk:Least_I_Could_Do&fulltext=Search+archives\n",
      "['/wiki/Talk:Least_I_Could_Do#Request_for_comments']\n",
      "found\n",
      "archive search url: https://en.wikipedia.org/wiki/Special:Search?search=Request_for_comment&prefix=Talk:Communist_terrorism&fulltext=Search+archives\n",
      "archive search url: https://en.wikipedia.org/wiki/Special:Search?search=Capitalization_of_common_names_of_animal_species&prefix=Wikipedia_talk:WikiProject_Animals/Draft_capitalization_guidelines&fulltext=Search+archives\n",
      "['/wiki/Wikipedia_talk:WikiProject_Animals/Draft_capitalization_guidelines#Capitalization_of_common_names_of_animal_species']\n",
      "found\n",
      "archive search url: https://en.wikipedia.org/wiki/Special:Search?search=Community_portal_proposed_change&prefix=Wikipedia_talk:Community_portal&fulltext=Search+archives\n",
      "['/wiki/Wikipedia_talk:Community_portal/Archive_15#Community_portal_proposed_change']\n",
      "found\n",
      "archive search url: https://en.wikipedia.org/wiki/Special:Search?search=Request_for_comment_-_quote&prefix=Talk:Planned_Parenthood&fulltext=Search+archives\n",
      "archive search url: https://en.wikipedia.org/wiki/Special:Search?search=Proposal_of_Bad_Girls_Club_cast_section_biography&prefix=Talk:Bad_Girls_Club_(season_7)&fulltext=Search+archives\n",
      "['/wiki/Talk:Bad_Girls_Club_(season_7)#Proposal_of_Bad_Girls_Club_cast_section_biography']\n",
      "found\n",
      "archive search url: https://en.wikipedia.org/wiki/Special:Search?search=RfC:_Did_the_merger_of_orbital_launch_system_pages_happen_within_policy_and_with_respect_to_verifiable_sources&prefix=Talk:Comparison_of_orbital_launch_systems&fulltext=Search+archives\n",
      "archive search url: https://en.wikipedia.org/wiki/Special:Search?search=RfC:_Structure_[[WP:WQA]]_conversations&prefix=Wikipedia:Village_pump_(proposals)&fulltext=Search+archives\n",
      "['/wiki/Wikipedia:Village_pump_(proposals)/Archive_77#RfC:_Structure_WP:WQA_conversations']\n",
      "archive search url: https://en.wikipedia.org/wiki/Special:Search?search=RfC:_Structure_[[WP:WQA]]_conversations&prefix=Wikipedia:Village_pump_(proposals)&fulltext=Search+archives\n",
      "['/wiki/Wikipedia:Village_pump_(proposals)/Archive_77#RfC:_Structure_WP:WQA_conversations']\n",
      "archive search url: https://en.wikipedia.org/wiki/Special:Search?search=Poll_on_extending_ArbCom_resolution_for_two_years&prefix=Wikipedia_talk:WikiProject_Ireland_Collaboration&fulltext=Search+archives\n",
      "archive search url: https://en.wikipedia.org/wiki/Special:Search?search=RFC_about_criticism_section&prefix=Talk:Objectivism_(Ayn_Rand)&fulltext=Search+archives\n",
      "archive search url: https://en.wikipedia.org/wiki/Special:Search?search=Key_players_in_the_Falafels_arrival_in_North_America_Disputed&prefix=Talk:Falafel&fulltext=Search+archives\n",
      "[]\n",
      "archive search url: https://en.wikipedia.org/wiki/Special:Search?search=Request_for_Comment_regarding_Name/Title&prefix=Talk:Climatic_Research_Unit_email_controversy&fulltext=Search+archives\n",
      "archive search url: https://en.wikipedia.org/wiki/Special:Search?search=Display_title&prefix=Talk:Republic_of_Ireland&fulltext=Search+archives\n",
      "archive search url: https://en.wikipedia.org/wiki/Special:Search?search=RfC:Shadow_Deputy_Prime_Minister&prefix=Talk:Harriet_Harman&fulltext=Search+archives\n",
      "['/wiki/Talk:Harriet_Harman#RfC:Shadow_Deputy_Prime_Minister']\n",
      "found\n",
      "archive search url: https://en.wikipedia.org/wiki/Special:Search?search=Nationality_again&prefix=Talk:W._B._Yeats&fulltext=Search+archives\n",
      "['/wiki/Talk:W._B._Yeats#Nationality_again']\n",
      "found\n",
      "archive search url: https://en.wikipedia.org/wiki/Special:Search?search=RfC:_Should_underage_editors_be_topic_banned_from_articles_in_the_WikiProject_Pornography_topic_area?&prefix=Wikipedia:Village_pump_(policy)&fulltext=Search+archives\n",
      "['/wiki/Wikipedia:Village_pump_(policy)/Archive_90#RfC:_Should_underage_editors_be_topic_banned_from_articles_in_the_WikiProject_Pornography_topic_area?']\n",
      "found\n",
      "archive search url: https://en.wikipedia.org/wiki/Special:Search?search=New_cast_members_in_the_television_infobox&prefix=Template_talk:Infobox_television&fulltext=Search+archives\n",
      "archive search url: https://en.wikipedia.org/wiki/Special:Search?search=Should_the_article_be_split?&prefix=Talk:Militant_atheism&fulltext=Search+archives\n",
      "archive search url: https://en.wikipedia.org/wiki/Special:Search?search=Introduction,_Part_II&prefix=Talk:Militant_atheism&fulltext=Search+archives\n",
      "[]\n",
      "archive search url: https://en.wikipedia.org/wiki/Special:Search?search=Nominating_articles_with_unreliable_sources_for_BLPPROD&prefix=Wikipedia_talk:Proposed_deletion_of_biographies_of_living_people&fulltext=Search+archives\n",
      "archive search url: https://en.wikipedia.org/wiki/Special:Search?search=Nominating_articles_with_unreliable_sources_for_BLPPROD&prefix=Wikipedia_talk:Proposed_deletion_of_biographies_of_living_people&fulltext=Search+archives\n",
      "archive search url: https://en.wikipedia.org/wiki/Special:Search?search=Expanded_Controversy_Section&prefix=Talk:Tamil_Tigress&fulltext=Search+archives\n",
      "['/wiki/Talk:Tamil_Tigress#Expanded_Controversy_Section']\n",
      "found\n",
      "archive search url: https://en.wikipedia.org/wiki/Special:Search?search=RfC:_What_is_a_dwarf_planet?&prefix=Talk:Dwarf_planet&fulltext=Search+archives\n",
      "archive search url: https://en.wikipedia.org/wiki/Special:Search?search=Checks_and_Balances_in_the_Articles_for_Deletion_Nomination_Process&prefix=Wikipedia_talk:Articles_for_deletion&fulltext=Search+archives\n",
      "archive search url: https://en.wikipedia.org/wiki/Special:Search?search=Discuss_including_table_of_professional_results_while_not_affiiliated_with_a_Tour&prefix=Talk:Lexi_Thompson&fulltext=Search+archives\n",
      "[]\n",
      "archive search url: https://en.wikipedia.org/wiki/Special:Search?search=Lede&prefix=Talk:Francis_Bacon_(artist)&fulltext=Search+archives\n",
      "['/wiki/Talk:Francis_Bacon_(artist)/Archive_1#Lede']\n",
      "found\n",
      "archive search url: https://en.wikipedia.org/wiki/Special:Search?search=Names_of_\"laws\"_(adages)&prefix=Wikipedia_talk:Manual_of_Style/Capital_letters&fulltext=Search+archives\n"
     ]
    },
    {
     "name": "stdout",
     "output_type": "stream",
     "text": [
      "['/wiki/Wikipedia_talk:Manual_of_Style/Capital_letters/Archive_5#Names_of_\"laws\"_(adages)']\n",
      "found\n",
      "archive search url: https://en.wikipedia.org/wiki/Special:Search?search=RfC:_Is_the_material_in_section_\"References_to_other_works\"_acceptable?&prefix=Talk:Haven_(TV_series)&fulltext=Search+archives\n",
      "['/wiki/Talk:Haven_(TV_series)/Archive_1#RfC:_Is_the_material_in_section_\"References_to_other_works\"_acceptable?']\n",
      "found\n",
      "archive search url: https://en.wikipedia.org/wiki/Special:Search?search=Nominating_articles_with_unreliable_sources_for_BLPPROD&prefix=Wikipedia_talk:Proposed_deletion_of_biographies_of_living_people&fulltext=Search+archives\n"
     ]
    }
   ],
   "source": [
    "for file_name in title_added_files:\n",
    "    if \".json\" in file_name:\n",
    "        path = _folder_dir + file_name\n",
    "        with open(path) as file:\n",
    "            rfc_info = json.load(file)\n",
    "        rfc_id = rfc_info[\"id\"]\n",
    "        if rfc_id in rfc_found:\n",
    "            print 'already found'\n",
    "        else:\n",
    "            find_rfc_url(rfc_info)"
   ]
  },
  {
   "cell_type": "code",
   "execution_count": 175,
   "metadata": {},
   "outputs": [],
   "source": [
    "with open(\"/Users/jane/rfc-analysis/url_found.json\", \"w\") as file:\n",
    "    json.dump(rfc_found, file)"
   ]
  },
  {
   "cell_type": "code",
   "execution_count": 194,
   "metadata": {},
   "outputs": [
    {
     "data": {
      "text/plain": [
       "65"
      ]
     },
     "execution_count": 194,
     "metadata": {},
     "output_type": "execute_result"
    }
   ],
   "source": [
    "len(rfc_found)"
   ]
  },
  {
   "cell_type": "code",
   "execution_count": 132,
   "metadata": {},
   "outputs": [],
   "source": [
    "rfc_title = blob[\"title\"]\n",
    "rfc_page = blob[\"page\"]\n",
    "rfc_rev_id = blob['id']"
   ]
  },
  {
   "cell_type": "markdown",
   "metadata": {},
   "source": [
    "### temprorary. get the page title from the title dictionary"
   ]
  },
  {
   "cell_type": "code",
   "execution_count": 64,
   "metadata": {},
   "outputs": [
    {
     "data": {
      "text/plain": [
       "u'Talk:Antifa (United States)'"
      ]
     },
     "execution_count": 64,
     "metadata": {},
     "output_type": "execute_result"
    }
   ],
   "source": [
    "with open(\"/Users/jane/rfc-analysis/pagetitles.json\") as file:\n",
    "    titles = json.load(file)\n",
    "rfc_page_title = titles[str(rfc_page)]\n",
    "rfc_page_title"
   ]
  },
  {
   "cell_type": "code",
   "execution_count": 20,
   "metadata": {},
   "outputs": [],
   "source": [
    "# https://en.wikipedia.org/?curid=1004741#Request_for_comments_on_where_to_place_military_service_controversy\n",
    "page_url = \"https://en.wikipedia.org/?curid=\" + str(rfc_page)"
   ]
  },
  {
   "cell_type": "code",
   "execution_count": 33,
   "metadata": {},
   "outputs": [
    {
     "data": {
      "text/plain": [
       "'https://en.wikipedia.org/?curid=54869928'"
      ]
     },
     "execution_count": 33,
     "metadata": {},
     "output_type": "execute_result"
    }
   ],
   "source": [
    "page_url"
   ]
  },
  {
   "cell_type": "markdown",
   "metadata": {},
   "source": [
    "### The URL we have to find\n",
    "https://en.wikipedia.org/wiki/Talk:Antifa_(United_States)/Archive_4#Request_for_comment"
   ]
  },
  {
   "cell_type": "code",
   "execution_count": 148,
   "metadata": {},
   "outputs": [],
   "source": [
    "page = urllib2.urlopen(page_url)"
   ]
  },
  {
   "cell_type": "code",
   "execution_count": 151,
   "metadata": {},
   "outputs": [],
   "source": [
    "def get_mw_headlines(page):\n",
    "    soup = BeautifulSoup(page, \"lxml\")\n",
    "    return [h['id'].strip() for h in soup.find_all(class_=\"mw-headline\")]\n",
    "def find_title_in_headlines(page, title):\n",
    "    headlines = get_mw_headlines(page)\n",
    "    return True if title in headlines else False\n",
    "    for h in headlines:\n",
    "        if title in h:\n",
    "            return h\n",
    "    return None"
   ]
  },
  {
   "cell_type": "markdown",
   "metadata": {},
   "source": [
    "### So is the section in the page?"
   ]
  },
  {
   "cell_type": "code",
   "execution_count": 150,
   "metadata": {},
   "outputs": [
    {
     "data": {
      "text/plain": [
       "[\"Antifa_apocalypse_placed_into_'Hoax'_sub-section_with_other_incidents\",\n",
       " 'references_and_text',\n",
       " 'Antifa_communist_in_past_or_present?',\n",
       " 'far_left_movement',\n",
       " 'History_section']"
      ]
     },
     "execution_count": 150,
     "metadata": {},
     "output_type": "execute_result"
    }
   ],
   "source": [
    "get_mw_headlines(page)"
   ]
  },
  {
   "cell_type": "code",
   "execution_count": 51,
   "metadata": {},
   "outputs": [
    {
     "data": {
      "text/plain": [
       "False"
      ]
     },
     "execution_count": 51,
     "metadata": {},
     "output_type": "execute_result"
    }
   ],
   "source": [
    "find_title_in_headlines(page, rfc_title)"
   ]
  },
  {
   "cell_type": "markdown",
   "metadata": {},
   "source": [
    "### Nope, so let's search in the archives"
   ]
  },
  {
   "cell_type": "markdown",
   "metadata": {},
   "source": [
    "https://en.wikipedia.org/wiki/Special:Search?search=Request+for+Comment&prefix=Talk%3AAntifa+%28United+States%29%2F&fulltext=Search+archives&fulltext=Search&searchToken=bolisx3qjufqyo0hl6ogoc4ah"
   ]
  },
  {
   "cell_type": "markdown",
   "metadata": {},
   "source": [
    "https://en.wikipedia.org/wiki/Special:Search?search=Request+for+Comment&prefix=Talk%3AAntifa+%28United+States%29%2F&fulltext=Search+archives"
   ]
  },
  {
   "cell_type": "code",
   "execution_count": 197,
   "metadata": {},
   "outputs": [],
   "source": [
    "def get_url_candidates_from_archive(rfc_title, rfc_page_title):\n",
    "    # first strip the rfc title\n",
    "    rfc_title = rfc_title.replace(\"=\", \"\").strip()\n",
    "    \n",
    "    archive_search_url = \"https://en.wikipedia.org/wiki/Special:Search?search=\" + rfc_title + \"&prefix=\" + rfc_page_title + \"&fulltext=Search+archives\"\n",
    "    archive_search_url = archive_search_url.replace(\" \", \"_\").encode('utf-8')\n",
    "    print 'archive search url: ' + archive_search_url\n",
    "    archive_search_page = urllib2.urlopen(archive_search_url)\n",
    "    soup = BeautifulSoup(archive_search_page, 'lxml')\n",
    "    try:\n",
    "        candidates = [c.find(class_='searchalttitle').a['href'] for c in soup.find_all(class_='mw-search-result-heading')]\n",
    "        print candidates\n",
    "        return candidates\n",
    "    except Exception:\n",
    "        return None"
   ]
  },
  {
   "cell_type": "code",
   "execution_count": 191,
   "metadata": {},
   "outputs": [],
   "source": [
    "# url = \"https://en.wikipedia.org/wiki/Special:Search?search=RfC&prefix=Template_talk:Birth_date_and_age&fulltext=Search+archives\"\n",
    "# temp_page = urllib2.urlopen(url)\n",
    "# soup = BeautifulSoup(temp_page, 'lxml')\n",
    "# h = soup.find_all(class_='mw-search-result-heading')"
   ]
  },
  {
   "cell_type": "code",
   "execution_count": 192,
   "metadata": {
    "scrolled": true
   },
   "outputs": [
    {
     "data": {
      "text/plain": [
       "'/wiki/Template_talk:Birth_date_and_age#RfC_about_whether_there_should_be_an_infant_month-day_and_super_year-day_parameter'"
      ]
     },
     "execution_count": 192,
     "metadata": {},
     "output_type": "execute_result"
    }
   ],
   "source": [
    "# h[0].find(class_='searchalttitle').a['href']"
   ]
  },
  {
   "cell_type": "code",
   "execution_count": 199,
   "metadata": {
    "collapsed": true
   },
   "outputs": [],
   "source": [
    "def find_rfc_url_from_archive(rfc_title, rfc_page_title):\n",
    "    candidates = get_url_candidates_from_archive(rfc_title, rfc_page_title)\n",
    "    rfc_url_keyword = rfc_title.replace(\"=\", \"\").strip().replace(\" \", \"_\")\n",
    "#     print 'keyword: ' + rfc_url_keyword\n",
    "    if candidates is not None:\n",
    "        for c in candidates:\n",
    "            if rfc_url_keyword in c:\n",
    "                print 'found'\n",
    "                return c"
   ]
  },
  {
   "cell_type": "markdown",
   "metadata": {},
   "source": [
    "### Try to find the RfC "
   ]
  },
  {
   "cell_type": "code",
   "execution_count": 130,
   "metadata": {},
   "outputs": [
    {
     "name": "stdout",
     "output_type": "stream",
     "text": [
      "keyword: Request_for_comment\n",
      "/wiki/Talk:Antifa_(United_States)/Archive_4#Request_for_comment\n"
     ]
    }
   ],
   "source": [
    "rfc_url = find_rfc_url_from_archive(rfc_title, rfc_page_title)"
   ]
  },
  {
   "cell_type": "markdown",
   "metadata": {},
   "source": [
    "### If none is find, keep track of it"
   ]
  },
  {
   "cell_type": "code",
   "execution_count": 137,
   "metadata": {},
   "outputs": [],
   "source": [
    "if rfc_url is None:\n",
    "    rfc_unfound.append(rfc_rev_id)\n",
    "else:\n",
    "    rfc_found[rfc_rev_id] = rfc_url"
   ]
  }
 ],
 "metadata": {
  "kernelspec": {
   "display_name": "Python 2",
   "language": "python",
   "name": "python2"
  },
  "language_info": {
   "codemirror_mode": {
    "name": "ipython",
    "version": 2
   },
   "file_extension": ".py",
   "mimetype": "text/x-python",
   "name": "python",
   "nbconvert_exporter": "python",
   "pygments_lexer": "ipython2",
   "version": "2.7.13"
  }
 },
 "nbformat": 4,
 "nbformat_minor": 2
}

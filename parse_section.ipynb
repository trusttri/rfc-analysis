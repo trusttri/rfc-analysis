{
 "cells": [
  {
   "cell_type": "code",
   "execution_count": 8,
   "metadata": {
    "collapsed": true
   },
   "outputs": [],
   "source": [
    "from bs4 import BeautifulSoup\n",
    "import json\n",
    "import re\n",
    "import urllib2\n",
    "import datetime\n",
    "from os import walk"
   ]
  },
  {
   "cell_type": "markdown",
   "metadata": {},
   "source": [
    "## This is a script top parse the wikitext to get the anchor of the section\n",
    "https://en.wikipedia.org/w/api.php?action=parse&prop=sections&text===RFC:%20Content%20dispute%20for%20[[National%20Broadband%20Network]]%20=="
   ]
  },
  {
   "cell_type": "markdown",
   "metadata": {},
   "source": [
    "### 1.All contents"
   ]
  },
  {
   "cell_type": "code",
   "execution_count": 9,
   "metadata": {
    "collapsed": true
   },
   "outputs": [],
   "source": [
    "all_content_dir = \"/Users/jane/rfc-analysis/all_content/\"\n",
    "all_content_files = []\n",
    "for (dirpath, dirnames, filenames) in walk(all_content_dir):\n",
    "    all_content_files.extend(filenames)"
   ]
  },
  {
   "cell_type": "code",
   "execution_count": null,
   "metadata": {},
   "outputs": [],
   "source": [
    "for i, file_name in enumerate(all_content_files):\n",
    "    if \".json\" in file_name:\n",
    "        path = all_content_dir + file_name\n",
    "        with open(path) as file:\n",
    "            rfc_info = json.load(file)\n",
    "            if \"rfc_title\" in rfc_info:\n",
    "                title = rfc_info[\"rfc_title\"]\n",
    "                from wikitools import wiki, api\n",
    "                site = wiki.Wiki(\"https://en.wikipedia.org/w/api.php?\")\n",
    "                params = {'action':'parse', 'prop':'sections', 'text':title}\n",
    "                request = api.APIRequest(site, params)\n",
    "                result = request.query()\n",
    "                rfc_info[\"parsed_rfc_title\"] = result['parse']['sections'][0]['anchor']\n",
    "#                 print str(i) + ' - ' + rfc_info['parsed_rfc_title']\n",
    "            \n",
    "                with open(path, \"w\") as file:\n",
    "                    json.dump(rfc_info, file)"
   ]
  }
 ],
 "metadata": {
  "kernelspec": {
   "display_name": "Python 2",
   "language": "python",
   "name": "python2"
  },
  "language_info": {
   "codemirror_mode": {
    "name": "ipython",
    "version": 2
   },
   "file_extension": ".py",
   "mimetype": "text/x-python",
   "name": "python",
   "nbconvert_exporter": "python",
   "pygments_lexer": "ipython2",
   "version": "2.7.13"
  }
 },
 "nbformat": 4,
 "nbformat_minor": 2
}
